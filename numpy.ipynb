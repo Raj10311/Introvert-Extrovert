{
 "cells": [
  {
   "cell_type": "code",
   "execution_count": 4,
   "id": "c6907ace",
   "metadata": {},
   "outputs": [
    {
     "name": "stdout",
     "output_type": "stream",
     "text": [
      "[ 4.  9.  9. ...  4. 11.  3.]\n"
     ]
    }
   ],
   "source": [
    "#1.\tConvert the Time_spent_Alone column to a NumPy array.\n",
    "import numpy as np \n",
    "import pandas as pd \n",
    "df=pd.read_csv('personality_dataset.csv')\n",
    "convert =np.array(df['Time_spent_Alone'])\n",
    "print(convert)"
   ]
  },
  {
   "cell_type": "code",
   "execution_count": 6,
   "id": "40090ec9",
   "metadata": {},
   "outputs": [
    {
     "name": "stdout",
     "output_type": "stream",
     "text": [
      "[0. 0. 0. ... 0. 0. 0.]\n"
     ]
    }
   ],
   "source": [
    "#2.\tCreate an array of the same size as Stage_fear with all values as 0.\n",
    "import numpy as np\n",
    "import pandas as pd \n",
    "df=pd.read_csv('personality_dataset.csv')\n",
    "zeroes =np.zeros(len(df['Going_outside']))\n",
    "print(zeroes)"
   ]
  },
  {
   "cell_type": "code",
   "execution_count": 7,
   "id": "ba27e57c",
   "metadata": {},
   "outputs": [
    {
     "name": "stdout",
     "output_type": "stream",
     "text": [
      "[1. 1. 1. ... 1. 1. 1.]\n"
     ]
    }
   ],
   "source": [
    "#3.\tMake an array with the same length as Social_event_attendance, but filled with 1s.\n",
    "import pandas as pd\n",
    "import numpy as np \n",
    "df=pd.read_csv('personality_dataset.csv')\n",
    "zeroes =np.ones(len(df['Going_outside']))\n",
    "print(zeroes)\n"
   ]
  },
  {
   "cell_type": "code",
   "execution_count": 12,
   "id": "ef5f44ca",
   "metadata": {},
   "outputs": [
    {
     "name": "stdout",
     "output_type": "stream",
     "text": [
      "[[4 4 4 9]\n",
      " [4 4 4 9]\n",
      " [4 4 4 9]]\n"
     ]
    }
   ],
   "source": [
    "#4.\tCreate an array of shape (3, 3) where every element is 4.\n",
    "import pandas as pd\n",
    "import numpy as np\n",
    "df=pd.read_csv('personality_dataset.csv')\n",
    "shape =np.full((3,3),4)\n",
    "shape1 =np.full((3,1),9)\n",
    "result = np.concatenate((shape,shape1),axis = 1)\n",
    "print(result)"
   ]
  },
  {
   "cell_type": "code",
   "execution_count": 13,
   "id": "60af36f1",
   "metadata": {},
   "outputs": [
    {
     "name": "stdout",
     "output_type": "stream",
     "text": [
      "[[1. 0. 0. 0. 0.]\n",
      " [0. 1. 0. 0. 0.]\n",
      " [0. 0. 1. 0. 0.]\n",
      " [0. 0. 0. 1. 0.]\n",
      " [0. 0. 0. 0. 1.]]\n"
     ]
    }
   ],
   "source": [
    "#5.\tMake a 5x5 matrix where diagonal has 1s and rest are 0s.\n",
    "import pandas as pd\n",
    "import numpy as np\n",
    "df=pd.read_csv('personality_dataset.csv')\n",
    "matrix =np.eye(5)\n",
    "print(matrix)"
   ]
  },
  {
   "cell_type": "code",
   "execution_count": 15,
   "id": "49926a39",
   "metadata": {},
   "outputs": [
    {
     "name": "stdout",
     "output_type": "stream",
     "text": [
      "[9.42011424e-312 9.42011323e-312 0.00000000e+000 ... 0.00000000e+000\n",
      " 0.00000000e+000 0.00000000e+000]\n"
     ]
    }
   ],
   "source": [
    "#6.\tMake an uninitialized array with the same shape as Going_outside.\n",
    "import pandas as pd\n",
    "import numpy as np\n",
    "df=pd.read_csv('personality_dataset.csv')\n",
    "array =np.empty(len(df['Going_outside']))\n",
    "print(array)"
   ]
  },
  {
   "cell_type": "code",
   "execution_count": 17,
   "id": "ea1a4d8b",
   "metadata": {},
   "outputs": [
    {
     "name": "stdout",
     "output_type": "stream",
     "text": [
      "[ 0  2  4  6  8 10]\n"
     ]
    }
   ],
   "source": [
    "#7.\tCreate an array with values from 0 to 10, stepping by 2.\n",
    "import pandas as pd\n",
    "import numpy as np\n",
    "df=pd.read_csv('personality_dataset.csv')\n",
    "array=np.arange(0,11,2)\n",
    "print(array)"
   ]
  },
  {
   "cell_type": "code",
   "execution_count": 18,
   "id": "7110337a",
   "metadata": {},
   "outputs": [
    {
     "name": "stdout",
     "output_type": "stream",
     "text": [
      "[10.   12.75 15.5  18.25 21.  ]\n"
     ]
    }
   ],
   "source": [
    "#8.\tCreate 5 values evenly spaced between 10 and 20.\n",
    "df=pd.read_csv('personality_dataset.csv')\n",
    "array=np.linspace(10,21,5)\n",
    "print(array)"
   ]
  },
  {
   "cell_type": "code",
   "execution_count": 20,
   "id": "d346ded9",
   "metadata": {},
   "outputs": [
    {
     "name": "stdout",
     "output_type": "stream",
     "text": [
      "[[1. 0. 0. 0.]\n",
      " [0. 1. 0. 0.]\n",
      " [0. 0. 1. 0.]\n",
      " [0. 0. 0. 1.]]\n"
     ]
    }
   ],
   "source": [
    "#9.\tMake a 4x4 identity matrix using another method.\n",
    "identity =np.identity(4)\n",
    "print(identity)"
   ]
  },
  {
   "cell_type": "code",
   "execution_count": 26,
   "id": "78ffe918",
   "metadata": {},
   "outputs": [
    {
     "name": "stdout",
     "output_type": "stream",
     "text": [
      "[13.  7. 14.  4. 15.]\n"
     ]
    }
   ],
   "source": [
    "#10.\tExtract just the diagonal values from a 2D matrix formed by Friends_circle_size.\n",
    "extract= df['Friends_circle_size'].to_numpy()\n",
    "matrix =extract[:25].reshape(5,5)\n",
    "diagonal = np.diag(matrix)\n",
    "print(diagonal)"
   ]
  },
  {
   "cell_type": "code",
   "execution_count": 27,
   "id": "2ccece4c",
   "metadata": {},
   "outputs": [
    {
     "name": "stdout",
     "output_type": "stream",
     "text": [
      "(2900,)\n"
     ]
    }
   ],
   "source": [
    "#11.\tWhat is the shape of the array created from Post_frequency?\n",
    "shape =np.shape(df['Post_frequency'])\n",
    "print(shape)"
   ]
  },
  {
   "cell_type": "code",
   "execution_count": 28,
   "id": "b0f44f5f",
   "metadata": {},
   "outputs": [
    {
     "name": "stdout",
     "output_type": "stream",
     "text": [
      "1\n"
     ]
    }
   ],
   "source": [
    "#12.\tHow many dimensions does the array from Drained_after_socializing have?\n",
    "dimension =np.ndim(df['Drained_after_socializing'])\n",
    "print(dimension)"
   ]
  },
  {
   "cell_type": "code",
   "execution_count": 33,
   "id": "91025219",
   "metadata": {},
   "outputs": [
    {
     "name": "stdout",
     "output_type": "stream",
     "text": [
      "Cant divide\n"
     ]
    }
   ],
   "source": [
    "#13.\tChange the shape of the array made from Personality into shape (len/2, 2) \n",
    "import pandas as pd\n",
    "import numpy as np \n",
    "df=pd.read_csv('personality_dataset.csv')\n",
    "numpy=df['Post_frequency'].to_numpy()\n",
    "if len(numpy%2)==0:\n",
    "    reshape = np.reshape(numpy,len(numpy)/2)\n",
    "    print(reshape)\n",
    "else:\n",
    "    print('Cant divide')\n"
   ]
  },
  {
   "cell_type": "code",
   "execution_count": 34,
   "id": "bf3e0d41",
   "metadata": {},
   "outputs": [
    {
     "name": "stdout",
     "output_type": "stream",
     "text": [
      "[13.  0.  5. ...  4.  2.  6.]\n"
     ]
    }
   ],
   "source": [
    "#14.\tConvert the array from Stage_fear into a 1D copy.\n",
    "import numpy as numpy\n",
    "df=df['Friends_circle_size'].to_numpy()\n",
    "flatten=df.flatten()\n",
    "print(flatten)"
   ]
  },
  {
   "cell_type": "code",
   "execution_count": null,
   "id": "4f105aa3",
   "metadata": {},
   "outputs": [
    {
     "name": "stdout",
     "output_type": "stream",
     "text": [
      "[ 6.  0.  2. ...  1. nan  6.]\n"
     ]
    }
   ],
   "source": [
    "#15.\tCreate a 1D view of Going_outside without copying it.\n",
    "import pandas as pd\n",
    "import numpy as np\n",
    "df=pd.read_csv('personality_dataset.csv')\n",
    "ravel =np.ravel(df['Going_outside'])\n",
    "print(ravel)\n"
   ]
  },
  {
   "cell_type": "code",
   "execution_count": 38,
   "id": "1f72978f",
   "metadata": {},
   "outputs": [
    {
     "name": "stdout",
     "output_type": "stream",
     "text": [
      "                     0    1    2     3    4    5    6    7    8     9     ...  \\\n",
      "Stage_fear             No  Yes  Yes    No   No   No   No   No  Yes    No  ...   \n",
      "Friends_circle_size  13.0  0.0  5.0  14.0  8.0  6.0  7.0  7.0  0.0  13.0  ...   \n",
      "\n",
      "                    2890 2891 2892 2893  2894 2895  2896 2897 2898 2899  \n",
      "Stage_fear           Yes  Yes  Yes  NaN    No   No    No  Yes  Yes   No  \n",
      "Friends_circle_size  1.0  5.0  1.0  4.0  12.0  6.0  14.0  4.0  2.0  6.0  \n",
      "\n",
      "[2 rows x 2900 columns]\n"
     ]
    }
   ],
   "source": [
    "#16.\tFlip the rows and columns of a 2D matrix made using Stage_fear and Friends_circle_size.\n",
    "df=pd.read_csv('personality_dataset.csv')\n",
    "flip = np.transpose(df[['Stage_fear','Friends_circle_size']])\n",
    "print(flip)\n"
   ]
  },
  {
   "cell_type": "code",
   "execution_count": 41,
   "id": "9209896f",
   "metadata": {},
   "outputs": [
    {
     "name": "stdout",
     "output_type": "stream",
     "text": [
      "0       5.0\n",
      "1       3.0\n",
      "2       2.0\n",
      "3       8.0\n",
      "4       5.0\n",
      "       ... \n",
      "2895    6.0\n",
      "2896    9.0\n",
      "2897    0.0\n",
      "2898    0.0\n",
      "2899    9.0\n",
      "Name: Post_frequency, Length: 2900, dtype: float64\n"
     ]
    }
   ],
   "source": [
    "#17.\tRemove any dimensions with size 1 from a reshaped version of Post_frequency.\n",
    "squeeze =np.squeeze(df['Post_frequency'])\n",
    "print(squeeze)"
   ]
  },
  {
   "cell_type": "code",
   "execution_count": 43,
   "id": "4df081fb",
   "metadata": {},
   "outputs": [
    {
     "name": "stdout",
     "output_type": "stream",
     "text": [
      "[['No']\n",
      " ['Yes']\n",
      " ['Yes']\n",
      " ...\n",
      " ['Yes']\n",
      " ['Yes']\n",
      " ['No']]\n"
     ]
    }
   ],
   "source": [
    "#18.\tAdd an extra dimension to Drained_after_socializing.\n",
    "expand =np.expand_dims(df['Drained_after_socializing'],axis=1)\n",
    "print(expand)"
   ]
  },
  {
   "cell_type": "code",
   "execution_count": 2,
   "id": "29d7a58f",
   "metadata": {},
   "outputs": [
    {
     "name": "stdout",
     "output_type": "stream",
     "text": [
      "[['No' 'Yes' 'Yes' 'No' 'No']\n",
      " ['No' 'No' 'No' 'Yes' 'No']\n",
      " ['No' 'Yes' 'No' 'No' 'Yes']\n",
      " ['No' 'Yes' 'No' 'Yes' 'No']]\n"
     ]
    }
   ],
   "source": [
    "#19.\tChange the size of the array from Stage_fear to shape (4, 5) directly.\n",
    "import pandas as pd \n",
    "import numpy as np \n",
    "df=pd.read_csv('personality_dataset.csv')\n",
    "size =np.resize(df['Stage_fear'],new_shape=(4,5))\n",
    "print(size)"
   ]
  },
  {
   "cell_type": "code",
   "execution_count": 6,
   "id": "8abfc862",
   "metadata": {},
   "outputs": [
    {
     "name": "stdout",
     "output_type": "stream",
     "text": [
      "                                0          1          2          3     \\\n",
      "Time_spent_Alone                 4.0        9.0        9.0        0.0   \n",
      "Stage_fear                        No        Yes        Yes         No   \n",
      "Social_event_attendance          4.0        0.0        1.0        6.0   \n",
      "Going_outside                    6.0        0.0        2.0        7.0   \n",
      "Drained_after_socializing         No        Yes        Yes         No   \n",
      "Friends_circle_size             13.0        0.0        5.0       14.0   \n",
      "Post_frequency                   5.0        3.0        2.0        8.0   \n",
      "Personality                Extrovert  Introvert  Introvert  Extrovert   \n",
      "\n",
      "                                4          5          6          7     \\\n",
      "Time_spent_Alone                 3.0        1.0        4.0        2.0   \n",
      "Stage_fear                        No         No         No         No   \n",
      "Social_event_attendance          9.0        7.0        9.0        8.0   \n",
      "Going_outside                    4.0        5.0        NaN        4.0   \n",
      "Drained_after_socializing         No         No         No         No   \n",
      "Friends_circle_size              8.0        6.0        7.0        7.0   \n",
      "Post_frequency                   5.0        6.0        7.0        8.0   \n",
      "Personality                Extrovert  Extrovert  Extrovert  Extrovert   \n",
      "\n",
      "                                8          9     ...       2890       2891  \\\n",
      "Time_spent_Alone                10.0        0.0  ...        8.0        6.0   \n",
      "Stage_fear                       Yes         No  ...        Yes        Yes   \n",
      "Social_event_attendance          1.0        8.0  ...        2.0        3.0   \n",
      "Going_outside                    3.0        6.0  ...        0.0        1.0   \n",
      "Drained_after_socializing        Yes         No  ...        Yes        Yes   \n",
      "Friends_circle_size              0.0       13.0  ...        1.0        5.0   \n",
      "Post_frequency                   3.0        8.0  ...        2.0        1.0   \n",
      "Personality                Introvert  Extrovert  ...  Introvert  Introvert   \n",
      "\n",
      "                                2892       2893       2894       2895  \\\n",
      "Time_spent_Alone                 9.0        9.0        0.0        3.0   \n",
      "Stage_fear                       Yes        NaN         No         No   \n",
      "Social_event_attendance          2.0        2.0        9.0        7.0   \n",
      "Going_outside                    0.0        0.0        3.0        6.0   \n",
      "Drained_after_socializing        Yes        Yes         No         No   \n",
      "Friends_circle_size              1.0        4.0       12.0        6.0   \n",
      "Post_frequency                   2.0        2.0        NaN        6.0   \n",
      "Personality                Introvert  Introvert  Extrovert  Extrovert   \n",
      "\n",
      "                                2896       2897       2898       2899  \n",
      "Time_spent_Alone                 3.0        4.0       11.0        3.0  \n",
      "Stage_fear                        No        Yes        Yes         No  \n",
      "Social_event_attendance          8.0        1.0        1.0        6.0  \n",
      "Going_outside                    3.0        1.0        NaN        6.0  \n",
      "Drained_after_socializing         No        Yes        Yes         No  \n",
      "Friends_circle_size             14.0        4.0        2.0        6.0  \n",
      "Post_frequency                   9.0        0.0        0.0        9.0  \n",
      "Personality                Extrovert  Introvert  Introvert  Extrovert  \n",
      "\n",
      "[8 rows x 2900 columns]\n"
     ]
    },
    {
     "name": "stderr",
     "output_type": "stream",
     "text": [
      "c:\\Users\\rajhe\\AppData\\Local\\Programs\\Python\\Python313\\Lib\\site-packages\\numpy\\_core\\fromnumeric.py:57: FutureWarning: 'DataFrame.swapaxes' is deprecated and will be removed in a future version. Please use 'DataFrame.transpose' instead.\n",
      "  return bound(*args, **kwds)\n"
     ]
    }
   ],
   "source": [
    "#20.\tSwap the first and second axes in a 3D array made from stacking columns.\n",
    "swap =np.swapaxes(df,0,1)\n",
    "print(swap)"
   ]
  },
  {
   "cell_type": "code",
   "execution_count": 12,
   "id": "7226fd3e",
   "metadata": {},
   "outputs": [
    {
     "name": "stdout",
     "output_type": "stream",
     "text": [
      "(2900,)\n",
      "(2900, 1)\n",
      "(1, 2900)\n"
     ]
    }
   ],
   "source": [
    "#21.\tAdd a new axis to the Time_spent_Alone array so it becomes 2D.\n",
    "numpy =df['Time_spent_Alone'].to_numpy()\n",
    "print(numpy.shape)\n",
    "twoD =numpy[:,np.newaxis]\n",
    "print(format(twoD.shape))\n",
    "twoD1=numpy[np.newaxis,:]\n",
    "print(format(twoD1.shape))"
   ]
  },
  {
   "cell_type": "code",
   "execution_count": 15,
   "id": "1583d147",
   "metadata": {},
   "outputs": [
    {
     "name": "stdout",
     "output_type": "stream",
     "text": [
      "0       10.0\n",
      "1        9.0\n",
      "2       11.0\n",
      "3        7.0\n",
      "4        7.0\n",
      "        ... \n",
      "2895     9.0\n",
      "2896     6.0\n",
      "2897     5.0\n",
      "2898     NaN\n",
      "2899     9.0\n",
      "Length: 2900, dtype: float64\n"
     ]
    }
   ],
   "source": [
    "#22.\tAdd Time_spent_Alone and Going_outside\n",
    "import numpy as np \n",
    "add= np.add(df['Time_spent_Alone'],df['Going_outside'])\n",
    "\n",
    "print(add)"
   ]
  },
  {
   "cell_type": "code",
   "execution_count": null,
   "id": "8fa01e53",
   "metadata": {},
   "outputs": [],
   "source": [
    "#23.\tSubtract Stage_fear from Drained_after_socializing.\n",
    "import numpy as np \n",
    "\n",
    "df['subtracted_result'] = np.subtract(df['Friends_circle_size'], df['Going_outside'])\n",
    "print(df[['Friends_circle_size', 'Going_outside', 'subtracted_result']].abs())\n"
   ]
  },
  {
   "cell_type": "code",
   "execution_count": null,
   "id": "d8a0257c",
   "metadata": {},
   "outputs": [],
   "source": [
    "#24.\tMultiply Post_frequency and Social_event_attendance.\n",
    "import numpy as np\n",
    "df['new_multiple'] =np.multiply(df['Post_frequency'],df['Social_event_attendance'])\n",
    "print(df[['Post_frequency','Social_event_attendance','new_multiple']])"
   ]
  },
  {
   "cell_type": "code",
   "execution_count": null,
   "id": "2c8157f3",
   "metadata": {},
   "outputs": [],
   "source": [
    "#25.\tDivide Friends_circle_size by Post_frequency.\n",
    "import numpy as np\n",
    "df['Divide']=np.divide(df['Friends_circle_size'],df['Post_frequency'])\n",
    "print(df[['Divide','Friends_circle_size','Post_frequency']])"
   ]
  },
  {
   "cell_type": "code",
   "execution_count": 29,
   "id": "732d3fa1",
   "metadata": {},
   "outputs": [
    {
     "name": "stdout",
     "output_type": "stream",
     "text": [
      "      Power  Post_frequency\n",
      "0      25.0             5.0\n",
      "1       9.0             3.0\n",
      "2       4.0             2.0\n",
      "3      64.0             8.0\n",
      "4      25.0             5.0\n",
      "...     ...             ...\n",
      "2895   36.0             6.0\n",
      "2896   81.0             9.0\n",
      "2897    0.0             0.0\n",
      "2898    0.0             0.0\n",
      "2899   81.0             9.0\n",
      "\n",
      "[2900 rows x 2 columns]\n"
     ]
    }
   ],
   "source": [
    "#26.\tRaise values in Stage_fear to the power of 2.\n",
    "import numpy as np\n",
    "df['Power']=np.power(df['Post_frequency'],2)\n",
    "print(df[['Power','Post_frequency']])"
   ]
  },
  {
   "cell_type": "code",
   "execution_count": 33,
   "id": "db49b22b",
   "metadata": {},
   "outputs": [
    {
     "name": "stdout",
     "output_type": "stream",
     "text": [
      "      reminder  Post_frequency  Going_outside\n",
      "0          5.0             5.0            6.0\n",
      "1          NaN             3.0            0.0\n",
      "2          0.0             2.0            2.0\n",
      "3          1.0             8.0            7.0\n",
      "4          1.0             5.0            4.0\n",
      "...        ...             ...            ...\n",
      "2895       0.0             6.0            6.0\n",
      "2896       0.0             9.0            3.0\n",
      "2897       0.0             0.0            1.0\n",
      "2898       NaN             0.0            NaN\n",
      "2899       3.0             9.0            6.0\n",
      "\n",
      "[2900 rows x 3 columns]\n"
     ]
    }
   ],
   "source": [
    "#27.\tFind the remainder when Post_frequency is divided by Going_outside.\n",
    "import numpy as np\n",
    "df['reminder']=np.mod(df['Post_frequency'],df['Going_outside'])\n",
    "print(df[['reminder','Post_frequency','Going_outside']])\n",
    "\n"
   ]
  },
  {
   "cell_type": "code",
   "execution_count": 35,
   "id": "bda2cf16",
   "metadata": {},
   "outputs": [
    {
     "name": "stdout",
     "output_type": "stream",
     "text": [
      "      floor_division  Post_frequency  Going_outside\n",
      "0                0.0             5.0            6.0\n",
      "1                inf             3.0            0.0\n",
      "2                1.0             2.0            2.0\n",
      "3                1.0             8.0            7.0\n",
      "4                1.0             5.0            4.0\n",
      "...              ...             ...            ...\n",
      "2895             1.0             6.0            6.0\n",
      "2896             3.0             9.0            3.0\n",
      "2897             0.0             0.0            1.0\n",
      "2898             NaN             0.0            NaN\n",
      "2899             1.0             9.0            6.0\n",
      "\n",
      "[2900 rows x 3 columns]\n"
     ]
    }
   ],
   "source": [
    "#28.\tDo division of Stage_fear by Drained_after_socializing, but keep only the integer part.\n",
    "import numpy as np\n",
    "df['floor_division'] =np.floor_divide(df['Post_frequency'],df['Going_outside'])\n",
    "print(df[['floor_division','Post_frequency','Going_outside']])"
   ]
  },
  {
   "cell_type": "code",
   "execution_count": 36,
   "id": "600c9fa8",
   "metadata": {},
   "outputs": [
    {
     "name": "stdout",
     "output_type": "stream",
     "text": [
      "      Friends_circle_size  Time_spent_Alone  reminder\n",
      "0                    13.0               4.0       1.0\n",
      "1                     0.0               9.0       0.0\n",
      "2                     5.0               9.0       5.0\n",
      "3                    14.0               0.0       NaN\n",
      "4                     8.0               3.0       2.0\n",
      "...                   ...               ...       ...\n",
      "2895                  6.0               3.0       0.0\n",
      "2896                 14.0               3.0       2.0\n",
      "2897                  4.0               4.0       0.0\n",
      "2898                  2.0              11.0       2.0\n",
      "2899                  6.0               3.0       0.0\n",
      "\n",
      "[2900 rows x 3 columns]\n"
     ]
    }
   ],
   "source": [
    "#29.\tRepeat: Find remainder of Friends_circle_size and Time_spent_Alone.\n",
    "import numpy as np\n",
    "df['reminder']=np.remainder(df['Friends_circle_size'],df['Time_spent_Alone'])\n",
    "print(df[['Friends_circle_size','Time_spent_Alone','reminder']])"
   ]
  },
  {
   "cell_type": "code",
   "execution_count": null,
   "id": "d43d111f",
   "metadata": {},
   "outputs": [],
   "source": [
    "#31.\tWhat is the average of Time_spent_Alone?\n",
    "average =np.mean(df['Time_spent_Alone'])\n",
    "print(average)"
   ]
  },
  {
   "cell_type": "code",
   "execution_count": null,
   "id": "2a4a2e91",
   "metadata": {},
   "outputs": [],
   "source": [
    "#32.\tWhat is the middle value in Stage_fear?\n",
    "middle =np.median(df['Time_spent_Alone'])\n",
    "print(middle)"
   ]
  },
  {
   "cell_type": "code",
   "execution_count": null,
   "id": "18562b5a",
   "metadata": {},
   "outputs": [],
   "source": [
    "# 33.\tHow spread out are the values in Social_event_attendance?\n",
    "spread=np.std(df['Social_event_attendance'])\n",
    "print(spread)"
   ]
  },
  {
   "cell_type": "code",
   "execution_count": null,
   "id": "6460de3b",
   "metadata": {},
   "outputs": [],
   "source": [
    "#34.\tWhat is the variation in Going_outside?\n",
    "variation = np.var(df['Going_outside'])\n",
    "print(variation)"
   ]
  },
  {
   "cell_type": "code",
   "execution_count": null,
   "id": "7f91f2b7",
   "metadata": {},
   "outputs": [],
   "source": [
    "#35.\tWhat is the total of Post_frequency?\n",
    "total =np.sum(df['Post_frequency'])\n",
    "print(total)"
   ]
  },
  {
   "cell_type": "code",
   "execution_count": null,
   "id": "68591455",
   "metadata": {},
   "outputs": [],
   "source": [
    "#36.\tWhat is the smallest value in Friends_circle_size?\n",
    "total =np.min(df['Friends_circle_size'])\n",
    "print(total)"
   ]
  },
  {
   "cell_type": "code",
   "execution_count": 46,
   "id": "23e1ab5c",
   "metadata": {},
   "outputs": [
    {
     "name": "stdout",
     "output_type": "stream",
     "text": [
      "15.0\n"
     ]
    }
   ],
   "source": [
    "#37.\tWhat is the largest value in Drained_after_socializing?\n",
    "total =np.max(df['Friends_circle_size'])\n",
    "print(total)"
   ]
  },
  {
   "cell_type": "code",
   "execution_count": 50,
   "id": "5acd361a",
   "metadata": {},
   "outputs": [
    {
     "name": "stdout",
     "output_type": "stream",
     "text": [
      "nan\n"
     ]
    }
   ],
   "source": [
    "#38.\tWhat is the value at 75% position in Stage_fear?\n",
    "total=np.percentile(df['Friends_circle_size'],q=75)\n",
    "print(total)"
   ]
  },
  {
   "cell_type": "code",
   "execution_count": 53,
   "id": "b5eb58d8",
   "metadata": {},
   "outputs": [
    {
     "name": "stdout",
     "output_type": "stream",
     "text": [
      "nan\n"
     ]
    }
   ],
   "source": [
    "#39.\tWhat is the weighted average of Time_spent_Alone if weights are all 1?\n",
    "weights =np.ones(len(df))\n",
    "total =np.average(df['Time_spent_Alone'],weights=weights)\n",
    "print(total)"
   ]
  },
  {
   "cell_type": "code",
   "execution_count": 56,
   "id": "047764af",
   "metadata": {},
   "outputs": [
    {
     "name": "stdout",
     "output_type": "stream",
     "text": [
      "11.0\n"
     ]
    }
   ],
   "source": [
    "#40.\tWhat is the range (max-min) of Going_outside?\n",
    "range =np.ptp(df['Time_spent_Alone'].dropna())\n",
    "print(range)"
   ]
  },
  {
   "cell_type": "code",
   "execution_count": 57,
   "id": "fdeb7422",
   "metadata": {},
   "outputs": [
    {
     "name": "stdout",
     "output_type": "stream",
     "text": [
      "0           5.0\n",
      "1           8.0\n",
      "2          10.0\n",
      "3          18.0\n",
      "4          23.0\n",
      "         ...   \n",
      "2895    10088.0\n",
      "2896    10097.0\n",
      "2897    10097.0\n",
      "2898    10097.0\n",
      "2899    10106.0\n",
      "Name: Post_frequency, Length: 2900, dtype: float64\n"
     ]
    }
   ],
   "source": [
    "#41.\tCalculate the running total of Post_frequency.\n",
    "range =np.cumsum(df['Post_frequency'])\n",
    "print(range)"
   ]
  },
  {
   "cell_type": "code",
   "execution_count": 58,
   "id": "80cd00e9",
   "metadata": {},
   "outputs": [
    {
     "name": "stdout",
     "output_type": "stream",
     "text": [
      "0       4.0\n",
      "1       0.0\n",
      "2       0.0\n",
      "3       0.0\n",
      "4       0.0\n",
      "       ... \n",
      "2895    0.0\n",
      "2896    0.0\n",
      "2897    0.0\n",
      "2898    0.0\n",
      "2899    0.0\n",
      "Name: Social_event_attendance, Length: 2900, dtype: float64\n"
     ]
    }
   ],
   "source": [
    "#42.\tFind the running product of values in Social_event_attendance.\n",
    "cumprod =np.cumprod(df['Social_event_attendance'])\n",
    "print(cumprod)"
   ]
  },
  {
   "cell_type": "code",
   "execution_count": 59,
   "id": "6d616562",
   "metadata": {},
   "outputs": [
    {
     "name": "stdout",
     "output_type": "stream",
     "text": [
      "0       True\n",
      "1       True\n",
      "2       True\n",
      "3       True\n",
      "4       True\n",
      "        ... \n",
      "2895    True\n",
      "2896    True\n",
      "2897    True\n",
      "2898    True\n",
      "2899    True\n",
      "Length: 2900, dtype: bool\n"
     ]
    }
   ],
   "source": [
    "#43.\tWhere is Stage_fear equal to Drained_after_socializing?\n",
    "equal =np.equal(df['Stage_fear'],df['Drained_after_socializing'])\n",
    "print(equal)"
   ]
  },
  {
   "cell_type": "code",
   "execution_count": 60,
   "id": "2a60212d",
   "metadata": {},
   "outputs": [
    {
     "name": "stdout",
     "output_type": "stream",
     "text": [
      "0       False\n",
      "1        True\n",
      "2        True\n",
      "3       False\n",
      "4       False\n",
      "        ...  \n",
      "2895    False\n",
      "2896    False\n",
      "2897    False\n",
      "2898     True\n",
      "2899    False\n",
      "Length: 2900, dtype: bool\n"
     ]
    }
   ],
   "source": [
    "#44.\tIn which rows is Time_spent_Alone greater than Friends_circle_size?\n",
    "equal =np.greater(df['Time_spent_Alone'],df['Friends_circle_size'])\n",
    "print(equal)"
   ]
  },
  {
   "cell_type": "code",
   "execution_count": 62,
   "id": "9616b843",
   "metadata": {},
   "outputs": [
    {
     "name": "stdout",
     "output_type": "stream",
     "text": [
      "0       False\n",
      "1        True\n",
      "2       False\n",
      "3        True\n",
      "4        True\n",
      "        ...  \n",
      "2895    False\n",
      "2896     True\n",
      "2897    False\n",
      "2898    False\n",
      "2899     True\n",
      "Length: 2900, dtype: bool\n"
     ]
    }
   ],
   "source": [
    "#45.\tIn which rows is Going_outside less than Stage_fear?\n",
    "small = np.less(df['Going_outside'],df['Post_frequency'])\n",
    "print(small)"
   ]
  },
  {
   "cell_type": "code",
   "execution_count": 65,
   "id": "46512e0b",
   "metadata": {},
   "outputs": [
    {
     "name": "stdout",
     "output_type": "stream",
     "text": [
      "[5. 3. 0. ... 0. 0. 9.]\n"
     ]
    }
   ],
   "source": [
    "#46.\tReplace Post_frequency values below 3 with 0 and leave others as-is.\n",
    "replace=np.where(df['Post_frequency']<3,0,df['Post_frequency'])\n",
    "print(replace)"
   ]
  },
  {
   "cell_type": "code",
   "execution_count": 71,
   "id": "89b9d8f0",
   "metadata": {},
   "outputs": [
    {
     "name": "stdout",
     "output_type": "stream",
     "text": [
      "0       False\n",
      "1       False\n",
      "2       False\n",
      "3        True\n",
      "4       False\n",
      "        ...  \n",
      "2895     True\n",
      "2896     True\n",
      "2897    False\n",
      "2898    False\n",
      "2899     True\n",
      "Length: 2900, dtype: bool\n"
     ]
    }
   ],
   "source": [
    "#47.\tWhere are both Stage_fear and Drained_after_socializing above 5?\n",
    "replace =np.logical_and((df['Post_frequency']>5),(df['Friends_circle_size']>5))\n",
    "print(replace)\n"
   ]
  },
  {
   "cell_type": "code",
   "execution_count": 73,
   "id": "4545e3aa",
   "metadata": {},
   "outputs": [
    {
     "name": "stdout",
     "output_type": "stream",
     "text": [
      "0        True\n",
      "1       False\n",
      "2        True\n",
      "3        True\n",
      "4        True\n",
      "        ...  \n",
      "2895     True\n",
      "2896     True\n",
      "2897     True\n",
      "2898     True\n",
      "2899     True\n",
      "Length: 2900, dtype: bool\n"
     ]
    }
   ],
   "source": [
    "#48.\tWhere is either Friends_circle_size or Social_event_attendance above 7?\n",
    "Or =np.logical_or((df['Friends_circle_size']>7),(df['Social_event_attendance']))\n",
    "print(Or)"
   ]
  },
  {
   "cell_type": "code",
   "execution_count": 74,
   "id": "0b31b6aa",
   "metadata": {},
   "outputs": [
    {
     "name": "stdout",
     "output_type": "stream",
     "text": [
      "False\n"
     ]
    }
   ],
   "source": [
    "#49.\tAre all values in Time_spent_Alone non-zero?\n",
    "true =np.all(df['Time_spent_Alone'])\n",
    "print(true)"
   ]
  },
  {
   "cell_type": "code",
   "execution_count": 75,
   "id": "a100772d",
   "metadata": {},
   "outputs": [
    {
     "name": "stdout",
     "output_type": "stream",
     "text": [
      "True\n"
     ]
    }
   ],
   "source": [
    "#50.\tIs there any value in Drained_after_socializing that is more than 10?\n",
    "true =np.any(df['Time_spent_Alone']>10)\n",
    "print(true)\n"
   ]
  },
  {
   "cell_type": "code",
   "execution_count": 77,
   "id": "74ee3529",
   "metadata": {},
   "outputs": [
    {
     "name": "stdout",
     "output_type": "stream",
     "text": [
      "0       True\n",
      "1       True\n",
      "2       True\n",
      "3       True\n",
      "4       True\n",
      "        ... \n",
      "2895    True\n",
      "2896    True\n",
      "2897    True\n",
      "2898    True\n",
      "2899    True\n",
      "Name: Time_spent_Alone, Length: 2900, dtype: bool\n"
     ]
    }
   ],
   "source": [
    "#51 51.\tAre all values in Stage_fear real numbers (not NaN or infinite)?\n",
    "Stage_fear =np.isfinite(df['Time_spent_Alone'])\n",
    "print(Stage_fear)"
   ]
  },
  {
   "cell_type": "code",
   "execution_count": 78,
   "id": "75ce3986",
   "metadata": {},
   "outputs": [
    {
     "name": "stdout",
     "output_type": "stream",
     "text": [
      "0       False\n",
      "1       False\n",
      "2       False\n",
      "3       False\n",
      "4       False\n",
      "        ...  \n",
      "2895    False\n",
      "2896    False\n",
      "2897    False\n",
      "2898    False\n",
      "2899    False\n",
      "Name: Post_frequency, Length: 2900, dtype: bool\n"
     ]
    }
   ],
   "source": [
    "#52.\tAre any values in Post_frequency NaN?\n",
    "NaN = np.isnan(df['Post_frequency'])\n",
    "print(NaN)"
   ]
  },
  {
   "cell_type": "code",
   "execution_count": 79,
   "id": "7f13d92b",
   "metadata": {},
   "outputs": [
    {
     "name": "stdout",
     "output_type": "stream",
     "text": [
      "0       False\n",
      "1       False\n",
      "2       False\n",
      "3       False\n",
      "4       False\n",
      "        ...  \n",
      "2895    False\n",
      "2896    False\n",
      "2897    False\n",
      "2898    False\n",
      "2899    False\n",
      "Name: Social_event_attendance, Length: 2900, dtype: bool\n"
     ]
    }
   ],
   "source": [
    "#53.\tAre any values in Social_event_attendance infinite?\n",
    "Infinite=np.isinf(df['Social_event_attendance'])\n",
    "print(Infinite)"
   ]
  },
  {
   "cell_type": "code",
   "execution_count": 80,
   "id": "b8996261",
   "metadata": {},
   "outputs": [
    {
     "name": "stdout",
     "output_type": "stream",
     "text": [
      "False\n"
     ]
    }
   ],
   "source": [
    "#54.\tDo Stage_fear and Friends_circle_size have the exact same values in all rows?\n",
    "equality =np.array_equal(df['Drained_after_socializing'],df['Friends_circle_size'])\n",
    "print(equality)"
   ]
  },
  {
   "cell_type": "code",
   "execution_count": 84,
   "id": "c2e8c04a",
   "metadata": {},
   "outputs": [
    {
     "name": "stdout",
     "output_type": "stream",
     "text": [
      "False\n"
     ]
    }
   ],
   "source": [
    "#55.\tAre Time_spent_Alone and Drained_after_socializing almost equal (small tolerance)?\n",
    "equality  = np.allclose(df['Time_spent_Alone'],df['Friends_circle_size'])\n",
    "print(equality)"
   ]
  },
  {
   "cell_type": "code",
   "execution_count": 85,
   "id": "fe548cde",
   "metadata": {},
   "outputs": [
    {
     "name": "stdout",
     "output_type": "stream",
     "text": [
      "[False False  True ... False False False]\n"
     ]
    }
   ],
   "source": [
    "#56.\tAre values in Going_outside and Post_frequency nearly the same (row by row)?\n",
    "values = np.isclose(df['Going_outside'],df['Post_frequency'])\n",
    "print(values)"
   ]
  },
  {
   "cell_type": "code",
   "execution_count": 87,
   "id": "354bb2ac",
   "metadata": {},
   "outputs": [
    {
     "name": "stdout",
     "output_type": "stream",
     "text": [
      "[0.3046527  0.67883794 0.30189086 0.9991418  0.53837885 0.68293043\n",
      " 0.7416431  0.94101844 0.68643064 0.42165477]\n"
     ]
    }
   ],
   "source": [
    "#1.\tGenerate an array of 10 random float values between 0 and 1.\n",
    "generate  = np.random.rand(10)\n",
    "print(generate)"
   ]
  },
  {
   "cell_type": "code",
   "execution_count": 89,
   "id": "fa317cd1",
   "metadata": {},
   "outputs": [
    {
     "name": "stdout",
     "output_type": "stream",
     "text": [
      "[17 19 15 15 17]\n"
     ]
    }
   ],
   "source": [
    "#2.\tGenerate 5 random integers between 10 and 20.\n",
    "generate1 = np.random.randint(10,20,5)\n",
    "print(generate1)"
   ]
  },
  {
   "cell_type": "code",
   "execution_count": 90,
   "id": "3c82c0ac",
   "metadata": {},
   "outputs": [
    {
     "name": "stdout",
     "output_type": "stream",
     "text": [
      "[ 1.32902414 -0.65594994  1.58018443 -0.31286861 -0.44076383  1.19972413\n",
      " -2.29548001  0.02874339]\n"
     ]
    }
   ],
   "source": [
    "#3.\tCreate an array of 8 values following a normal distribution.\n",
    "generate2 = np.random.randn(8)\n",
    "print(generate2)"
   ]
  },
  {
   "cell_type": "code",
   "execution_count": 97,
   "id": "045017c8",
   "metadata": {},
   "outputs": [
    {
     "name": "stdout",
     "output_type": "stream",
     "text": [
      "[0.85888927 0.37271115 0.55512878 0.95565655 0.7366696 ]\n"
     ]
    }
   ],
   "source": [
    "#4.\tFix the random output so the same values are created every time.\n",
    "np.random.seed(32)\n",
    "generate3 =np.random.rand(5)\n",
    "print(generate3)"
   ]
  },
  {
   "cell_type": "code",
   "execution_count": 98,
   "id": "1ef873db",
   "metadata": {},
   "outputs": [
    {
     "name": "stdout",
     "output_type": "stream",
     "text": [
      "Extrovert\n"
     ]
    }
   ],
   "source": [
    "#5.\tRandomly select one value from the Personality column.\n",
    "choice =np.random.choice(df['Personality'])\n",
    "print(choice)"
   ]
  },
  {
   "cell_type": "code",
   "execution_count": 103,
   "id": "44d0c304",
   "metadata": {},
   "outputs": [
    {
     "name": "stdout",
     "output_type": "stream",
     "text": [
      "[8. 1. 3. ... 4. 7. 1.]\n"
     ]
    }
   ],
   "source": [
    "#6.\tShuffle the array made from Post_frequency in-place.\n",
    "shuffled_array = df['Post_frequency'].sample(frac=1).reset_index(drop=True).values\n",
    "np.random.shuffle(shuffled_array)\n",
    "print(shuffled_array)\n"
   ]
  },
  {
   "cell_type": "code",
   "execution_count": 104,
   "id": "6f296e96",
   "metadata": {},
   "outputs": [
    {
     "name": "stdout",
     "output_type": "stream",
     "text": [
      "[7. 8. 9. ... 1. 2. 0.]\n"
     ]
    }
   ],
   "source": [
    "#7.\tCreate a shuffled copy of the Stage_fear array without changing the original.\n",
    "shuffled_array =np.random.permutation(df['Post_frequency'])\n",
    "print(shuffled_array)\n"
   ]
  },
  {
   "cell_type": "code",
   "execution_count": 105,
   "id": "5569294c",
   "metadata": {},
   "outputs": [
    {
     "name": "stdout",
     "output_type": "stream",
     "text": [
      "[ 6.44940708  7.78865685  8.77026603  7.83276599 11.2173256   5.76219944\n",
      " 12.90679007 12.04093196 13.40728171  9.03884423]\n"
     ]
    }
   ],
   "source": [
    "#8.\tGenerate 10 random float values between 5 and 15 (uniform).\n",
    "uniform = np.random.uniform(5,15,10)\n",
    "print(uniform)"
   ]
  },
  {
   "cell_type": "code",
   "execution_count": 107,
   "id": "6a2837a9",
   "metadata": {},
   "outputs": [
    {
     "name": "stdout",
     "output_type": "stream",
     "text": [
      "[ 1.02448537  0.9018583   0.55277812  0.11838766 -0.67745817  0.77347662]\n"
     ]
    }
   ],
   "source": [
    "#9.\tCreate 6 values with a mean of 0 and standard deviation of 1.\n",
    "normal =np.random.normal(loc=0,scale=1,size=6)\n",
    "print(normal)"
   ]
  },
  {
   "cell_type": "code",
   "execution_count": 109,
   "id": "128dea32",
   "metadata": {},
   "outputs": [
    {
     "name": "stdout",
     "output_type": "stream",
     "text": [
      "[1.34160952 1.02608731 1.12442081 1.37968794 0.95327654]\n"
     ]
    }
   ],
   "source": [
    "#10.\tGenerate 5 values from an exponential distribution.\n",
    "exponential =np.random.exponential(size=5)\n",
    "print(exponential)"
   ]
  },
  {
   "cell_type": "code",
   "execution_count": 113,
   "id": "b4a3b9c7",
   "metadata": {},
   "outputs": [
    {
     "name": "stdout",
     "output_type": "stream",
     "text": [
      "[4. 7. 1.]\n"
     ]
    }
   ],
   "source": [
    "#11.\tGet the values at index positions 2, 5, and 9 from Going_outside.\n",
    "values =np.take(df['Post_frequency'].to_numpy(),[2,5,9])\n",
    "print(values)"
   ]
  },
  {
   "cell_type": "code",
   "execution_count": 121,
   "id": "2dc20e89",
   "metadata": {},
   "outputs": [
    {
     "name": "stdout",
     "output_type": "stream",
     "text": [
      "0        4.0\n",
      "1        9.0\n",
      "2        9.0\n",
      "3       99.0\n",
      "4        3.0\n",
      "        ... \n",
      "2895     3.0\n",
      "2896     3.0\n",
      "2897     4.0\n",
      "2898    11.0\n",
      "2899     3.0\n",
      "Name: Time_spent_Alone, Length: 2900, dtype: float64\n"
     ]
    }
   ],
   "source": [
    "#12.\tChange the value at index 3 in Time_spent_Alone to 99.\n",
    "Update  = np.put(df['Time_spent_Alone'].to_numpy(),ind=3,v=99)\n",
    "print(df['Time_spent_Alone'])"
   ]
  },
  {
   "cell_type": "code",
   "execution_count": null,
   "id": "9440b602",
   "metadata": {},
   "outputs": [
    {
     "name": "stdout",
     "output_type": "stream",
     "text": [
      "0       4.0\n",
      "1       1.0\n",
      "2       1.0\n",
      "3       1.0\n",
      "4       3.0\n",
      "       ... \n",
      "2889    8.0\n",
      "2890    1.0\n",
      "2891    1.0\n",
      "2892    1.0\n",
      "2893    9.0\n",
      "Name: Post_frequency, Length: 2894, dtype: float64\n"
     ]
    }
   ],
   "source": [
    "#13.\tRemove the element at index 1 from the Stage_fear array.\n",
    "Remove = np.delete(df['Post_frequency'].to_numpy(),1)\n",
    "df=df.drop(index=df.index[1]).reset_index(drop=True)\n",
    "print(df['Post_frequency'])"
   ]
  },
  {
   "cell_type": "code",
   "execution_count": null,
   "id": "f5363b7b",
   "metadata": {},
   "outputs": [],
   "source": [
    "#14.\tInsert the value 50 at index 4 into the Post_frequency array.\n",
    "insert=np.insert(df['Post_frequency'],obj=3,values=50)\n",
    "df.loc[len(df)]=[np.nan]*len(df.columns)\n",
    "df['Post_frequency']=insert\n",
    "print(df['Post_frequency'])\n"
   ]
  },
  {
   "cell_type": "code",
   "execution_count": 168,
   "id": "f860e84c",
   "metadata": {},
   "outputs": [
    {
     "name": "stdout",
     "output_type": "stream",
     "text": [
      "[ 0.  1.  2.  3.  4.  5.  6.  7.  8.  9. 10. 11. 12. 13. 14. 15. nan]\n"
     ]
    }
   ],
   "source": [
    "#15.\tWhat are all the unique values in Friends_circle_size?\n",
    "unique =np.unique(df['Friends_circle_size'])\n",
    "print(unique)"
   ]
  },
  {
   "cell_type": "code",
   "execution_count": 169,
   "id": "62c9d9b6",
   "metadata": {},
   "outputs": [
    {
     "name": "stdout",
     "output_type": "stream",
     "text": [
      "24\n"
     ]
    }
   ],
   "source": [
    "#16.\tAt which index does Social_event_attendance have the highest value?\n",
    "index =np.argmax(df['Social_event_attendance'])\n",
    "print(index)"
   ]
  },
  {
   "cell_type": "code",
   "execution_count": 171,
   "id": "9a339552",
   "metadata": {},
   "outputs": [
    {
     "name": "stdout",
     "output_type": "stream",
     "text": [
      "10\n"
     ]
    }
   ],
   "source": [
    "#17.\tAt which index is the minimum value in Drained_after_socializing?\n",
    "indexmin =np.argmin(df['Social_event_attendance'])\n",
    "print(indexmin)"
   ]
  },
  {
   "cell_type": "code",
   "execution_count": 174,
   "id": "bd0cee74",
   "metadata": {},
   "outputs": [
    {
     "name": "stdout",
     "output_type": "stream",
     "text": [
      "[ 453  599  600 ...  569 2016 2897]\n"
     ]
    }
   ],
   "source": [
    "#18.\tSort the indexes of Stage_fear in ascending order.\n",
    "sort =np.argsort(df['Friends_circle_size'].to_numpy())\n",
    "print(sort)"
   ]
  },
  {
   "cell_type": "code",
   "execution_count": 176,
   "id": "7453a1b9",
   "metadata": {},
   "outputs": [
    {
     "name": "stdout",
     "output_type": "stream",
     "text": [
      "[ 0.  0.  0. ... nan nan nan]\n"
     ]
    }
   ],
   "source": [
    "#19.\tReturn a sorted version of Going_outside.\n",
    "sorted =np.sort(df['Going_outside'].to_numpy())\n",
    "print(sorted)"
   ]
  },
  {
   "cell_type": "code",
   "execution_count": 179,
   "id": "2a914e17",
   "metadata": {},
   "outputs": [
    {
     "name": "stdout",
     "output_type": "stream",
     "text": [
      "2831\n"
     ]
    }
   ],
   "source": [
    "#20.\tLimit all values in Time_spent_Alone to stay between 2 and 10.\n",
    "clip =np.clip(df['Time_spent_Alone'],2,10)\n",
    "print(clip.count())"
   ]
  },
  {
   "cell_type": "code",
   "execution_count": 180,
   "id": "9381f09a",
   "metadata": {},
   "outputs": [
    {
     "name": "stdout",
     "output_type": "stream",
     "text": [
      "(2898,)\n"
     ]
    }
   ],
   "source": [
    "#21.\tWhat is the shape of the array created from Post_frequency\n",
    "shape  = np.shape(df['Post_frequency'])\n",
    "print(shape)"
   ]
  },
  {
   "cell_type": "code",
   "execution_count": 181,
   "id": "f2e4da26",
   "metadata": {},
   "outputs": [
    {
     "name": "stdout",
     "output_type": "stream",
     "text": [
      "2898\n"
     ]
    }
   ],
   "source": [
    "#22.\tHow many elements are there in the array from Stage_fear?\n",
    "elements =np.size(df['Stage_fear'])\n",
    "print(elements)"
   ]
  },
  {
   "cell_type": "code",
   "execution_count": 182,
   "id": "9340fde4",
   "metadata": {},
   "outputs": [
    {
     "name": "stdout",
     "output_type": "stream",
     "text": [
      "1\n"
     ]
    }
   ],
   "source": [
    "#23.\tHow many dimensions does the array from Friends_circle_size have?\n",
    "dimensions =np.ndim(df['Friends_circle_size'])\n",
    "print(dimensions)"
   ]
  },
  {
   "cell_type": "code",
   "execution_count": 183,
   "id": "959cd64f",
   "metadata": {},
   "outputs": [
    {
     "name": "stdout",
     "output_type": "stream",
     "text": [
      "object\n"
     ]
    }
   ],
   "source": [
    "#24.\tWhat is the data type of elements in the Drained_after_socializing array?\n",
    "data_type = np.dtype(df['Drained_after_socializing'])\n",
    "print(data_type)"
   ]
  },
  {
   "cell_type": "code",
   "execution_count": 191,
   "id": "8ad7df75",
   "metadata": {},
   "outputs": [
    {
     "name": "stdout",
     "output_type": "stream",
     "text": [
      "8\n"
     ]
    }
   ],
   "source": [
    "#25.\tHow many bytes does one element in the Social_event_attendance array take?\n",
    "bytes =np.array(df['Social_event_attendance']).itemsize\n",
    "print(bytes)"
   ]
  },
  {
   "cell_type": "code",
   "execution_count": 193,
   "id": "fd2acbee",
   "metadata": {},
   "outputs": [
    {
     "name": "stdout",
     "output_type": "stream",
     "text": [
      "23184\n"
     ]
    }
   ],
   "source": [
    "#26.\tWhat is the total number of bytes used by the array from Time_spent_Alone?\n",
    "bytess =np.array(df['Social_event_attendance']).nbytes\n",
    "print(bytess)\n"
   ]
  },
  {
   "cell_type": "code",
   "execution_count": 196,
   "id": "b0580f93",
   "metadata": {},
   "outputs": [
    {
     "name": "stdout",
     "output_type": "stream",
     "text": [
      "      Going_outside  copy\n",
      "0               6.0   6.0\n",
      "1               4.0   4.0\n",
      "2               3.0   3.0\n",
      "3               6.0   6.0\n",
      "4               6.0   6.0\n",
      "...             ...   ...\n",
      "2893            6.0   6.0\n",
      "2894            NaN   NaN\n",
      "2895            NaN   NaN\n",
      "2896            NaN   NaN\n",
      "2897            NaN   NaN\n",
      "\n",
      "[2898 rows x 2 columns]\n"
     ]
    }
   ],
   "source": [
    "#27.\tMake an exact copy of the Going_outside array.\n",
    "df['copy']=np.copy(df['Going_outside'])\n",
    "print(df[['Going_outside','copy']])"
   ]
  },
  {
   "cell_type": "code",
   "execution_count": null,
   "id": "718a4cc5",
   "metadata": {},
   "outputs": [],
   "source": [
    "#28.\tCreate a view (not a copy) of the Stage_fear array.\n",
    "view =df['Stage_fear'].to_numpy().view()\n",
    "print(view)"
   ]
  },
  {
   "cell_type": "code",
   "execution_count": null,
   "id": "d5cc0865",
   "metadata": {},
   "outputs": [],
   "source": [
    "#30.\tFind the square roots of Stage_fear.\n",
    "view1=np.sqrt(df['Post_frequency'])\n",
    "print(view1)"
   ]
  },
  {
   "cell_type": "code",
   "execution_count": 5,
   "id": "3cb3d357",
   "metadata": {},
   "outputs": [
    {
     "name": "stdout",
     "output_type": "stream",
     "text": [
      "[[28]\n",
      " [64]\n",
      " [56]]\n"
     ]
    }
   ],
   "source": [
    "#29.\tMultiply a (3x3) matrix A and (3x1) vector B made from your dataset columns.\n",
    "import numpy as np\n",
    "A=np.array([[1,2,3],[4,5,6],[2,4,6]])\n",
    "B=np.array([[2],[4],[6]])\n",
    "matrix =np.dot(A,B)\n",
    "print(matrix)"
   ]
  },
  {
   "cell_type": "code",
   "execution_count": 8,
   "id": "684893e9",
   "metadata": {},
   "outputs": [
    {
     "name": "stdout",
     "output_type": "stream",
     "text": [
      "[[45 23]\n",
      " [98 54]]\n"
     ]
    }
   ],
   "source": [
    "#30.\tPerform matrix multiplication between two 2D arrays made from your data.\n",
    "import numpy as np\n",
    "A=np.array([[1,2,3],[2,5,6]])\n",
    "B=np.array([[2,8,9],[1,8,2]])\n",
    "C=np.matmul(A,B.T)\n",
    "print(C)"
   ]
  },
  {
   "cell_type": "code",
   "execution_count": 13,
   "id": "8e6076d9",
   "metadata": {},
   "outputs": [
    {
     "name": "stdout",
     "output_type": "stream",
     "text": [
      "[[-0.05882353  0.17647059]\n",
      " [ 0.15686275 -0.1372549 ]]\n"
     ]
    }
   ],
   "source": [
    "#31.\tFind the inverse of a 2x2 matrix made from some values.\n",
    "import numpy as np \n",
    "A=np.array([[1,2],[4,3]])\n",
    "B=np.array([[7,9],[8,3]])\n",
    "C=np.linalg.inv(B)\n",
    "print(C)"
   ]
  },
  {
   "cell_type": "code",
   "execution_count": 16,
   "id": "969127ee",
   "metadata": {},
   "outputs": [
    {
     "name": "stdout",
     "output_type": "stream",
     "text": [
      "-2.9999999999999996\n"
     ]
    }
   ],
   "source": [
    "#32.\tWhat is the determinant of a 3x3 matrix?\n",
    "import numpy as np\n",
    "A=np.array([[1,2,3],[2,5,6],[4,8,9]])\n",
    "C=np.linalg.det(A)\n",
    "print(C)"
   ]
  },
  {
   "cell_type": "code",
   "execution_count": 25,
   "id": "b8104aae",
   "metadata": {},
   "outputs": [
    {
     "name": "stdout",
     "output_type": "stream",
     "text": [
      "EigResult(eigenvalues=array([3.62771868, 9.37228132]), eigenvectors=array([[-0.90937671, -0.56576746],\n",
      "       [ 0.41597356, -0.82456484]]))\n"
     ]
    }
   ],
   "source": [
    "#33.\tFind the eigenvalues of a square matrix made from Stage_fear.\n",
    "import numpy as np \n",
    "import pandas as pd\n",
    "df=pd.read_csv('personality_dataset.csv')\n",
    "values =df['Post_frequency'].values[:4]\n",
    "matrix =np.array(values).reshape(2,2)\n",
    "Eigenvalues =np.linalg.eig(matrix)\n",
    "print(Eigenvalues)"
   ]
  },
  {
   "cell_type": "code",
   "execution_count": 30,
   "id": "3f9b7fe6",
   "metadata": {},
   "outputs": [
    {
     "name": "stdout",
     "output_type": "stream",
     "text": [
      "[[0.55882353 0.70588235]\n",
      " [0.73529412 0.82352941]]\n"
     ]
    }
   ],
   "source": [
    "#34.\tSolve the equation Ax = b, where A and b are arrays from your data.\n",
    "import numpy as np\n",
    "import numpy as np \n",
    "import pandas as pd\n",
    "df=pd.read_csv('personality_dataset.csv')\n",
    "values =df['Post_frequency'].values[:4]\n",
    "values1=df['Post_frequency'].values[4:8]\n",
    "A =np.array(values).reshape(2,2)\n",
    "B=np.array(values1).reshape(2,2)\n",
    "Solve =np.linalg.solve(A,B)\n",
    "print(Solve)\n",
    "\n",
    "\n"
   ]
  },
  {
   "cell_type": "code",
   "execution_count": null,
   "id": "b82bd36e",
   "metadata": {},
   "outputs": [],
   "source": [
    "#35.\tWhat is the sum of the diagonal elements of a 3x3 matrix?\n",
    "import pandas as pd\n",
    "import numpy as np\n",
    "df=pd.read_csv('personality_dataset.csv')\n",
    "values=df['Post_frequency'].values[:9]\n",
    "reshape =np.array(values).reshape(3,3)\n",
    "sum=np.trace(reshape)\n",
    "print(sum)\n"
   ]
  },
  {
   "cell_type": "code",
   "execution_count": 37,
   "id": "7de0f9b3",
   "metadata": {},
   "outputs": [
    {
     "name": "stdout",
     "output_type": "stream",
     "text": [
      "[[5. 0. 0.]\n",
      " [8. 5. 0.]\n",
      " [7. 8. 3.]]\n"
     ]
    }
   ],
   "source": [
    "#36.\tGet only the lower triangle of a 3x3 matrix.\n",
    "import pandas as pd\n",
    "import numpy as np\n",
    "df=pd.read_csv('personality_dataset.csv')\n",
    "values=df['Post_frequency'].values[:9]\n",
    "reshape =np.array(values).reshape(3,3)\n",
    "tril =np.tril(reshape)\n",
    "print(tril)\n"
   ]
  },
  {
   "cell_type": "code",
   "execution_count": 39,
   "id": "339a4110",
   "metadata": {},
   "outputs": [
    {
     "name": "stdout",
     "output_type": "stream",
     "text": [
      "[[5. 3. 2.]\n",
      " [0. 5. 6.]\n",
      " [0. 0. 3.]]\n"
     ]
    }
   ],
   "source": [
    "#37.\tGet only the upper triangle of a 3x3 matrix.\n",
    "#36.\tGet only the lower triangle of a 3x3 matrix.\n",
    "import pandas as pd\n",
    "import numpy as np\n",
    "df=pd.read_csv('personality_dataset.csv')\n",
    "values=df['Post_frequency'].values[:9]\n",
    "reshape =np.array(values).reshape(3,3)\n",
    "triu=np.triu(reshape)\n",
    "print(triu)"
   ]
  },
  {
   "cell_type": "code",
   "execution_count": null,
   "id": "d9267e35",
   "metadata": {},
   "outputs": [],
   "source": [
    "#38.\tWhat is the rank of a matrix created using 3 columns from your data?\n",
    "import pandas as pd\n",
    "import numpy as np\n",
    "df=pd.read_csv('personality_dataset.csv')\n",
    "values=df['Post_frequency'].values[:9]\n",
    "reshape =np.array(values).reshape(3,3)\n",
    "rank=np.linalg.matrix_rank(reshape)\n",
    "print(rank)"
   ]
  },
  {
   "cell_type": "code",
   "execution_count": 41,
   "id": "3ea73ba7",
   "metadata": {},
   "outputs": [
    {
     "name": "stdout",
     "output_type": "stream",
     "text": [
      "16.002743964585505\n"
     ]
    }
   ],
   "source": [
    "#39.\tWhat is the condition number of a matrix?\n",
    "import pandas as pd\n",
    "import numpy as np\n",
    "df=pd.read_csv('personality_dataset.csv')\n",
    "values=df['Post_frequency'].values[:9]\n",
    "reshape =np.array(values).reshape(3,3)\n",
    "condition =np.linalg.cond(reshape)\n",
    "print(condition)"
   ]
  },
  {
   "cell_type": "code",
   "execution_count": null,
   "id": "41b82d6e",
   "metadata": {},
   "outputs": [
    {
     "name": "stdout",
     "output_type": "stream",
     "text": [
      "QRResult(Q=array([[-0.92847669, -0.37139068],\n",
      "       [-0.37139068,  0.92847669]]), R=array([[-5.38516481, -5.75655548],\n",
      "       [ 0.        ,  6.3136415 ]]))\n"
     ]
    }
   ],
   "source": [
    "#40.\tPerform QR decomposition on a 2D matrix made from your data.\n",
    "\n",
    "import pandas as pd\n",
    "import numpy as np\n",
    "df=pd.read_csv('personality_dataset.csv')\n",
    "values=df['Post_frequency'].values[:4]\n",
    "reshape =np.array(values).reshape(2,2)\n",
    "QR=np.linalg.qr(reshape)\n",
    "print(QR)\n"
   ]
  },
  {
   "cell_type": "code",
   "execution_count": 43,
   "id": "d9944f16",
   "metadata": {},
   "outputs": [
    {
     "name": "stdout",
     "output_type": "stream",
     "text": [
      "SVDResult(U=array([[ 0.52573111,  0.85065081],\n",
      "       [ 0.85065081, -0.52573111]]), S=array([9.43467835, 3.60372646]), Vh=array([[ 0.45894062,  0.88846694],\n",
      "       [ 0.88846694, -0.45894062]]))\n"
     ]
    }
   ],
   "source": [
    "#41.\tPerform Singular Value Decomposition on a matrix.\n",
    "import pandas as pd\n",
    "import numpy as np\n",
    "df=pd.read_csv('personality_dataset.csv')\n",
    "values=df['Post_frequency'].values[:4]\n",
    "reshape =np.array(values).reshape(2,2)\n",
    "SVD=np.linalg.svd(reshape)\n",
    "print(SVD)"
   ]
  },
  {
   "cell_type": "code",
   "execution_count": 46,
   "id": "a5c73151",
   "metadata": {},
   "outputs": [
    {
     "name": "stdout",
     "output_type": "stream",
     "text": [
      "[[2.23606798 0.        ]\n",
      " [1.34164079 1.78885438]]\n"
     ]
    }
   ],
   "source": [
    "#\t42.\tPerform Cholesky decomposition on a symmetric positive-definite matrix.\n",
    "import pandas as pd\n",
    "import numpy as np\n",
    "df=pd.read_csv('personality_dataset.csv')\n",
    "values=df['Post_frequency'].values[:2]\n",
    "reshape =np.array([[values[0],values[1]],[values[1],values[0]]])\n",
    "cholesky =np.linalg.cholesky(reshape)\n",
    "print(cholesky)\n"
   ]
  },
  {
   "cell_type": "code",
   "execution_count": null,
   "id": "85acf8f6",
   "metadata": {},
   "outputs": [
    {
     "name": "stdout",
     "output_type": "stream",
     "text": [
      "[ 3.56472663e+00+0.j          1.14455088e-01-0.03122616j\n",
      "  8.66052731e-02+0.02986001j ... -3.31130071e-03+0.02392521j\n",
      "  8.66052731e-02-0.02986001j  1.14455088e-01+0.03122616j]\n"
     ]
    }
   ],
   "source": [
    "#43.\tApply Fourier transform to a 1D array made from Post_frequency.\n",
    "import pandas as pd\n",
    "import numpy as np\n",
    "df=pd.read_csv('personality_dataset.csv')\n",
    "fourier = np.fft.fft(df['Post_frequency'].fillna(df['Post_frequency'].mean()))\n",
    "\n",
    "print(fourier)"
   ]
  },
  {
   "cell_type": "code",
   "execution_count": 53,
   "id": "2255bd85",
   "metadata": {},
   "outputs": [
    {
     "name": "stdout",
     "output_type": "stream",
     "text": [
      "[ 3.56472663e+00+0.j          1.14455088e-01-0.03122616j\n",
      "  8.66052731e-02+0.02986001j ... -3.31130071e-03+0.02392521j\n",
      "  8.66052731e-02-0.02986001j  1.14455088e-01+0.03122616j]\n"
     ]
    }
   ],
   "source": [
    "#44.\tApply inverse Fourier transform to the result of the above.\n",
    "import pandas as pd\n",
    "import numpy as np\n",
    "df=pd.read_csv('personality_dataset.csv')\n",
    "fourier = np.fft.ifft(df['Post_frequency'].fillna(df['Post_frequency'].mean()))\n",
    "print(fourier)"
   ]
  },
  {
   "cell_type": "code",
   "execution_count": 57,
   "id": "93c8f0d8",
   "metadata": {},
   "outputs": [
    {
     "name": "stdout",
     "output_type": "stream",
     "text": [
      "[ 0.          0.00034483  0.00068966 ... -0.00103448 -0.00068966\n",
      " -0.00034483]\n"
     ]
    }
   ],
   "source": [
    "#45.\tWhat are the frequencies of the components in the FFT result?\n",
    "import pandas as pd\n",
    "import numpy as np\n",
    "df=pd.read_csv('personality_dataset.csv')\n",
    "fourier = np.fft.fft(df['Post_frequency'].fillna(df['Post_frequency'].mean()))\n",
    "length =np.fft.fftfreq(len(fourier))\n",
    "print(length)\n"
   ]
  },
  {
   "cell_type": "code",
   "execution_count": 58,
   "id": "7f8a3fb3",
   "metadata": {},
   "outputs": [
    {
     "name": "stdout",
     "output_type": "stream",
     "text": [
      "[ 0.          0.26634263 -0.33201944 ... -1.70832482  0.33201944\n",
      " -0.26634263]\n"
     ]
    }
   ],
   "source": [
    "#46.\tFind the phase angle of the FFT result.\n",
    "import pandas as pd\n",
    "import numpy as np\n",
    "df=pd.read_csv('personality_dataset.csv')\n",
    "fourier = np.fft.fft(df['Post_frequency'].fillna(df['Post_frequency'].mean()))\n",
    "angle =np.angle(fourier)\n",
    "print(angle)"
   ]
  },
  {
   "cell_type": "code",
   "execution_count": 59,
   "id": "ac46df48",
   "metadata": {},
   "outputs": [
    {
     "name": "stdout",
     "output_type": "stream",
     "text": [
      "[ 1.03377072e+04  3.31919756e+02  2.51155292e+02 ... -9.60277207e+00\n",
      "  2.51155292e+02  3.31919756e+02]\n"
     ]
    }
   ],
   "source": [
    "#47.\tExtract only the real part from a complex FFT result.\n",
    "import pandas as pd\n",
    "import numpy as np\n",
    "df=pd.read_csv('personality_dataset.csv')\n",
    "fourier = np.fft.fft(df['Post_frequency'].fillna(df['Post_frequency'].mean()))\n",
    "real =np.real(fourier)\n",
    "print(real)\n"
   ]
  },
  {
   "cell_type": "code",
   "execution_count": 62,
   "id": "e60ac002",
   "metadata": {},
   "outputs": [
    {
     "name": "stdout",
     "output_type": "stream",
     "text": [
      "[  0.          90.55587161 -86.59402594 ... -69.38309998  86.59402594\n",
      " -90.55587161]\n"
     ]
    }
   ],
   "source": [
    "#48.\tExtract only the imaginary part from a complex FFT result.\n",
    "import pandas as pd\n",
    "import numpy as np\n",
    "df=pd.read_csv('personality_dataset.csv')\n",
    "fourier =np.fft.fft(df['Post_frequency'].fillna(df['Post_frequency'].mean()))\n",
    "imaginery = np.imag(fourier)\n",
    "print(imaginery)\n"
   ]
  },
  {
   "cell_type": "code",
   "execution_count": 72,
   "id": "788068e2",
   "metadata": {},
   "outputs": [
    {
     "name": "stdout",
     "output_type": "stream",
     "text": [
      "Original complex numbers: [13.+0.j  0.+0.j  5.+0.j 14.+0.j  8.+0.j  6.+0.j  7.+0.j  7.+0.j  0.+0.j\n",
      " 13.+0.j]\n",
      "Complex conjugates: [13.-0.j  0.-0.j  5.-0.j 14.-0.j  8.-0.j  6.-0.j  7.-0.j  7.-0.j  0.-0.j\n",
      " 13.-0.j]\n"
     ]
    }
   ],
   "source": [
    "#49.\tGet the complex conjugate of a complex number array.\n",
    "import pandas as pd\n",
    "import numpy as np\n",
    "\n",
    "df = pd.read_csv('personality_dataset.csv')\n",
    "\n",
    "# Step 1: Use fillna on the Pandas Series (before .values)\n",
    "values = df['Friends_circle_size'].fillna(0).values[:10]\n",
    "\n",
    "# Step 2: Convert to complex numbers\n",
    "array = np.array(values, dtype=np.complex128)\n",
    "\n",
    "# Step 3: Get complex conjugate\n",
    "conjugate = np.conj(array)\n",
    "\n",
    "print(\"Original complex numbers:\", array)\n",
    "print(\"Complex conjugates:\", conjugate)\n"
   ]
  },
  {
   "cell_type": "code",
   "execution_count": 75,
   "id": "cfd63bfc",
   "metadata": {},
   "outputs": [
    {
     "name": "stdout",
     "output_type": "stream",
     "text": [
      "[-13.   5.   9. ... -10.  -2.   4.]\n"
     ]
    }
   ],
   "source": [
    "#50.\tFind the difference between each consecutive value in the Stage_fear array.\n",
    "import pandas as pd\n",
    "import numpy as np\n",
    "df =pd.read_csv('personality_dataset.csv')\n",
    "difference =np.diff(df['Friends_circle_size'])\n",
    "print(difference)\n"
   ]
  },
  {
   "cell_type": "code",
   "execution_count": 100,
   "id": "7b506c37",
   "metadata": {},
   "outputs": [
    {
     "name": "stdout",
     "output_type": "stream",
     "text": [
      "[ 4.  9.  9. ...  4. 11.  3.]\n"
     ]
    }
   ],
   "source": [
    "#1.\tSave the Time_spent_Alone array to a binary .npy file.\n",
    "time  = np.array(df['Time_spent_Alone'])\n",
    "save = np.save('time_alone.npy',time)\n",
    "load=np.load('time_alone.npy')\n",
    "print(load)"
   ]
  },
  {
   "cell_type": "code",
   "execution_count": 101,
   "id": "f31db4e2",
   "metadata": {},
   "outputs": [
    {
     "name": "stdout",
     "output_type": "stream",
     "text": [
      "[ 4.  9.  9. ...  4. 11.  3.]\n"
     ]
    }
   ],
   "source": [
    "#2.\tLoad the .npy file and display its contents.\n",
    "time  = np.array(df['Time_spent_Alone'])\n",
    "save = np.save('time_alone.npy',time)\n",
    "load=np.load('time_alone.npy')\n",
    "print(load)\n"
   ]
  },
  {
   "cell_type": "code",
   "execution_count": 102,
   "id": "f8fb0795",
   "metadata": {},
   "outputs": [
    {
     "name": "stdout",
     "output_type": "stream",
     "text": [
      "None\n"
     ]
    }
   ],
   "source": [
    "#3.\tSave the Stage_fear array as a .txt file with space delimiter.\n",
    "text =np.array(df['Time_spent_Alone'])\n",
    "save =np.savetxt('Stage_fear.txt',text,fmt='%s',delimiter=' ')\n",
    "print(save)"
   ]
  },
  {
   "cell_type": "code",
   "execution_count": 103,
   "id": "fe452d7b",
   "metadata": {},
   "outputs": [
    {
     "name": "stdout",
     "output_type": "stream",
     "text": [
      "[ 4.  9.  9. ...  4. 11.  3.]\n"
     ]
    }
   ],
   "source": [
    "#4.\tLoad the .txt file and check the data.\n",
    "text =np.array(df['Time_spent_Alone'])\n",
    "save =np.savetxt('Stage_fear.txt',text,fmt='%s',delimiter=' ')\n",
    "load=np.loadtxt('Stage_fear.txt')\n",
    "print(load)\n"
   ]
  },
  {
   "cell_type": "code",
   "execution_count": 104,
   "id": "c1e44af0",
   "metadata": {},
   "outputs": [
    {
     "name": "stdout",
     "output_type": "stream",
     "text": [
      "['4.0' '9.0' '9.0' ... '4.0' '11.0' '3.0']\n"
     ]
    }
   ],
   "source": [
    "#5.\tLoad a text file where some values may be missing (simulate or use a real file).\n",
    "text =np.array(df['Time_spent_Alone'])\n",
    "save =np.savetxt('Stage_fear.txt',text,fmt='%s',delimiter=' ')\n",
    "loadmissing=np.genfromtxt('Stage_fear.txt',dtype=str,delimiter='',filling_values='Missing')\n",
    "print(loadmissing)\n"
   ]
  },
  {
   "cell_type": "code",
   "execution_count": 105,
   "id": "542fc3bd",
   "metadata": {},
   "outputs": [
    {
     "name": "stdout",
     "output_type": "stream",
     "text": [
      "[1.87585069e-309 1.17119999e+171 5.22741680e-037 ... 4.00000000e+000\n",
      " 1.10000000e+001 3.00000000e+000]\n"
     ]
    }
   ],
   "source": [
    "#6.\tLoad binary data directly from a .bin file on disk (assume it was saved already).\n",
    "load =np.fromfile('time_alone.npy')\n",
    "print(load)\n"
   ]
  },
  {
   "cell_type": "code",
   "execution_count": 108,
   "id": "65f05f66",
   "metadata": {},
   "outputs": [
    {
     "name": "stdout",
     "output_type": "stream",
     "text": [
      "ok\n"
     ]
    }
   ],
   "source": [
    "#7.\tSave a NumPy array to disk in binary format for faster access.\n",
    "array=np.array(df['Time_spent_Alone'],dtype=str)\n",
    "array.tofile('number.bin')\n",
    "print('ok')"
   ]
  },
  {
   "cell_type": "code",
   "execution_count": 111,
   "id": "7559dd6b",
   "metadata": {},
   "outputs": [
    {
     "name": "stdout",
     "output_type": "stream",
     "text": [
      "[9.76118064e-313 2.37151510e-322 0.00000000e+000 ... 0.00000000e+000\n",
      " 0.00000000e+000 0.00000000e+000]\n"
     ]
    }
   ],
   "source": [
    "#8.\tCreate a NumPy array from a buffer (like a byte string).\n",
    "array=np.array(df['Time_spent_Alone'],dtype=str)\n",
    "buffer =np.frombuffer(array)\n",
    "print(buffer)"
   ]
  },
  {
   "cell_type": "code",
   "execution_count": null,
   "id": "9fbfbdda",
   "metadata": {},
   "outputs": [],
   "source": [
    "#9.\tGenerate a NumPy array from a generator that yields values from 0 to 9.\n",
    "array=np.array(df['Time_spent_Alone'])\n",
    "gen = (x for x in range(10))\n",
    "generator =np.fromiter(gen,dtype=float)\n",
    "print(generator)\n",
    "    "
   ]
  },
  {
   "cell_type": "code",
   "execution_count": null,
   "id": "f70e25db",
   "metadata": {},
   "outputs": [],
   "source": [
    "#10.\tCreate a 3x3 array where each value is the sum of its row and column indexes.\n",
    "array=np.array(df['Time_spent_Alone'].values[:9].reshape(3,3))\n",
    "sum =np.fromfunction(lambda i,j:i+j,(3,3),dtype=float)\n",
    "print(sum)"
   ]
  },
  {
   "cell_type": "code",
   "execution_count": null,
   "id": "955db92c",
   "metadata": {},
   "outputs": [
    {
     "name": "stdout",
     "output_type": "stream",
     "text": [
      "[25.  9.  4. ...  0.  0. 81.]\n"
     ]
    }
   ],
   "source": [
    "#11.\tApply a custom function to every value in Post_frequency without a loop.\n",
    "def square(x):\n",
    "    return x**2\n",
    "function =np.vectorize(square)\n",
    "result =function(df['Post_frequency'])\n",
    "print(result)"
   ]
  },
  {
   "cell_type": "code",
   "execution_count": 136,
   "id": "5541b686",
   "metadata": {},
   "outputs": [
    {
     "name": "stdout",
     "output_type": "stream",
     "text": [
      "(3, 3)\n"
     ]
    }
   ],
   "source": [
    "#12.\tView how the values [1, 2, 3] would broadcast against shape (3, 1).\n",
    "array =np.array([1,2,3]).reshape(3,1)\n",
    "array2=np.array([4,5,6]).reshape(1,3)\n",
    "view=np.broadcast(array,array2)\n",
    "print(view.shape)\n"
   ]
  },
  {
   "cell_type": "code",
   "execution_count": 139,
   "id": "d688ca15",
   "metadata": {},
   "outputs": [
    {
     "name": "stdout",
     "output_type": "stream",
     "text": [
      "(3, 3)\n"
     ]
    }
   ],
   "source": [
    "#13.\tForce the array [4, 5, 6] to be broadcast to shape (3, 3) and display the result.\n",
    "\n",
    "array2=np.array([4,5,6])\n",
    "force= np.broadcast_to(array,(3,3))\n",
    "print(force.shape)\n"
   ]
  },
  {
   "cell_type": "code",
   "execution_count": 141,
   "id": "6430d196",
   "metadata": {},
   "outputs": [
    {
     "name": "stdout",
     "output_type": "stream",
     "text": [
      "['No' 'Yes' 'Yes' ... 'Yes' 'Yes' 'No']\n"
     ]
    }
   ],
   "source": [
    "#14.\tRepeat the full Stage_fear array 3 times.\n",
    "array=np.array(df['Stage_fear'])\n",
    "repeat =np.tile(array,3)\n",
    "print(repeat)"
   ]
  },
  {
   "cell_type": "code",
   "execution_count": null,
   "id": "af4746e4",
   "metadata": {},
   "outputs": [],
   "source": [
    "#15.\tRepeat each value in Friends_circle_size 2 times.\n",
    "repeat =np.repeat(df['Friends_circle_size'],2)\n",
    "print(repeat)"
   ]
  },
  {
   "cell_type": "code",
   "execution_count": 143,
   "id": "6fd211c6",
   "metadata": {},
   "outputs": [
    {
     "name": "stdout",
     "output_type": "stream",
     "text": [
      "(array([[0, 1, 2, 3, 4],\n",
      "       [0, 1, 2, 3, 4],\n",
      "       [0, 1, 2, 3, 4]]), array([[0, 0, 0, 0, 0],\n",
      "       [1, 1, 1, 1, 1],\n",
      "       [2, 2, 2, 2, 2]]))\n"
     ]
    }
   ],
   "source": [
    "#16.\tCreate a coordinate grid using values from 0 to 4 and 0 to 2.\n",
    "array =np.array([0,1,2,3,4])\n",
    "array2 =np.array([0,1,2])\n",
    "grid=np.meshgrid(array,array2)\n",
    "print(grid)\n"
   ]
  },
  {
   "cell_type": "code",
   "execution_count": 145,
   "id": "9a47f585",
   "metadata": {},
   "outputs": [
    {
     "name": "stdout",
     "output_type": "stream",
     "text": [
      "[[[0 0 0]\n",
      "  [1 1 1]]\n",
      "\n",
      " [[0 1 2]\n",
      "  [0 1 2]]]\n"
     ]
    }
   ],
   "source": [
    "#17.\tCreate a grid of indices for shape (2, 3).\n",
    "grid =np.indices((2,3))\n",
    "print(grid)"
   ]
  },
  {
   "cell_type": "code",
   "execution_count": null,
   "id": "4a60ee40",
   "metadata": {},
   "outputs": [],
   "source": []
  },
  {
   "cell_type": "code",
   "execution_count": null,
   "id": "aa3e1f5a",
   "metadata": {},
   "outputs": [],
   "source": [
    "#18.\tCreate a dense multi-dimensional grid from 0 to 3 and 0 to 2.\n",
    "dense = np.mgrid[0:4,0:3]\n",
    "print(dense)"
   ]
  },
  {
   "cell_type": "code",
   "execution_count": null,
   "id": "c53ace10",
   "metadata": {},
   "outputs": [],
   "source": [
    "#19.\tCreate a light open grid from 0 to 3 and 0 to 2.\n",
    "dense =np.ogrid[0:4,0:3]\n",
    "print(dense)"
   ]
  },
  {
   "cell_type": "code",
   "execution_count": null,
   "id": "7bb5eba3",
   "metadata": {},
   "outputs": [],
   "source": [
    "#20.\tOpen a large .npy file as a memory-mapped array and read it without loading the entire file.\n",
    "open =np.memmap('time_alone.npy',dtype='float32' ,mode='r',shape=(1000,))\n",
    "print(open)\n"
   ]
  },
  {
   "cell_type": "code",
   "execution_count": null,
   "id": "5e6300d7",
   "metadata": {},
   "outputs": [],
   "source": [
    "#21.\tChange the setting so divide-by-zero does not crash the program — just warn.\n",
    "crash =np.seterr(divide='warn')\n",
    "a=np.array([1,2,3])\n",
    "b=np.array([0,1,0])\n",
    "print(a/b)"
   ]
  },
  {
   "cell_type": "code",
   "execution_count": null,
   "id": "327a757e",
   "metadata": {},
   "outputs": [],
   "source": [
    "#22.\tCheck the current error-handling settings of NumPy.\n",
    "error =np.geterr()\n",
    "print(error)"
   ]
  },
  {
   "cell_type": "code",
   "execution_count": null,
   "id": "559372c7",
   "metadata": {},
   "outputs": [],
   "source": [
    "#23.\tReplace all NaN values in Social_event_attendance with 0.\n",
    "replace =np.nan_to_num(df['Social_event_attendance'])\n",
    "print(replace)"
   ]
  },
  {
   "cell_type": "code",
   "execution_count": null,
   "id": "594217c6",
   "metadata": {},
   "outputs": [],
   "source": [
    "#24.\tGenerate a histogram from the Stage_fear array with 5 bins.\n",
    "import matplotlib.pyplot as mp\n",
    "import numpy as np\n",
    "mp.hist(df['Social_event_attendance'],bins=5,edgecolor='black',linewidth=1.2)\n",
    "mp.xlabel('Social_event_attendance')\n",
    "mp.ylabel('frequencies')\n",
    "mp.title('Social_events')\n",
    "mp.show()\n",
    "\n",
    "\n"
   ]
  },
  {
   "cell_type": "code",
   "execution_count": null,
   "id": "0f11eb81",
   "metadata": {},
   "outputs": [],
   "source": [
    "#25.\tCount how many times each value appears in Post_frequency.\n",
    "import numpy as np\n",
    "filter =df['Post_frequency'].dropna().values\n",
    "integer =filter.astype(int)\n",
    "count =np.bincount(integer)\n",
    "for value,total in enumerate(count):\n",
    "    print(value,total)\n"
   ]
  },
  {
   "cell_type": "code",
   "execution_count": 183,
   "id": "ef770022",
   "metadata": {},
   "outputs": [
    {
     "name": "stdout",
     "output_type": "stream",
     "text": [
      "[ 0.07512746 -1.66280078 11.32429576]\n"
     ]
    }
   ],
   "source": [
    "#26.\tFit a polynomial of degree 2 to Time_spent_Alone vs Drained_after_socializing.\n",
    "import pandas as pd\n",
    "clean =df[['Time_spent_Alone','Friends_circle_size']].dropna()\n",
    "x=clean['Time_spent_Alone'].values\n",
    "y=clean['Friends_circle_size'].values\n",
    "fitpoly =np.polyfit(x,y,2)\n",
    "print(fitpoly)\n",
    "\n"
   ]
  },
  {
   "cell_type": "code",
   "execution_count": 189,
   "id": "fb51d396",
   "metadata": {},
   "outputs": [
    {
     "name": "stdout",
     "output_type": "stream",
     "text": [
      "17687.5\n"
     ]
    }
   ],
   "source": [
    "#27.\tEstimate the area under the curve of Stage_fear using basic integration.\n",
    "estimate =np.trapezoid(df['Friends_circle_size'].dropna())\n",
    "print(estimate)"
   ]
  },
  {
   "cell_type": "code",
   "execution_count": 193,
   "id": "8deb0aa2",
   "metadata": {},
   "outputs": [
    {
     "name": "stdout",
     "output_type": "stream",
     "text": [
      "[87]\n"
     ]
    }
   ],
   "source": [
    "#28.\tCount business days between two sets of dates (e.g., attendance start and end dates).\n",
    "attendancestart =np.array(['2012-02-01'],dtype='datetime64[D]')\n",
    "end =np.array(['2012-06-01'],dtype='datetime64[D]')\n",
    "countb = np.busday_count(attendancestart,end)\n",
    "print(countb)"
   ]
  },
  {
   "cell_type": "code",
   "execution_count": 199,
   "id": "42792f7f",
   "metadata": {},
   "outputs": [
    {
     "name": "stdout",
     "output_type": "stream",
     "text": [
      "['2023-01-01' '2023-01-02' '2023-01-03' '2023-01-04' '2023-01-05'\n",
      " '2023-01-06' '2023-01-07' '2023-01-08' '2023-01-09']\n"
     ]
    }
   ],
   "source": [
    "#29.\tCreate a date array from '2023-01-01' to '2023-01-10' using a NumPy date type.\n",
    "array =np.arange('2023-01-01','2023-01-10',dtype='datetime64[D]')\n",
    "print(array)"
   ]
  },
  {
   "cell_type": "code",
   "execution_count": 217,
   "id": "d1073e30",
   "metadata": {},
   "outputs": [
    {
     "name": "stdout",
     "output_type": "stream",
     "text": [
      "['EXTROVERT' 'INTROVERT' 'INTROVERT' ... 'INTROVERT' 'INTROVERT'\n",
      " 'EXTROVERT']\n"
     ]
    }
   ],
   "source": [
    "#30.\tConvert the Personality column values to uppercase using NumPy string tools.\n",
    "import numpy as np\n",
    "\n",
    "values = df['Personality'].dropna()\n",
    "safe =np.array(values.astype(str),dtype='U')\n",
    "uppercase =np.char.upper(safe)\n",
    "print(uppercase)\n",
    "\n"
   ]
  },
  {
   "cell_type": "code",
   "execution_count": 218,
   "id": "93c89906",
   "metadata": {},
   "outputs": [
    {
     "name": "stdout",
     "output_type": "stream",
     "text": [
      "['NO' 'YES' 'YES' ... 'YES' 'YES' 'NO']\n"
     ]
    }
   ],
   "source": [
    "#31.\tHow do you convert all values in Stage_fear to uppercase\n",
    "values =df['Stage_fear'].dropna()\n",
    "safe=np.array(values.astype(str),dtype='U')\n",
    "upper =np.char.upper(safe)\n",
    "print(upper)"
   ]
  },
  {
   "cell_type": "code",
   "execution_count": 219,
   "id": "bd5cdf3a",
   "metadata": {},
   "outputs": [
    {
     "name": "stdout",
     "output_type": "stream",
     "text": [
      "['extrovert' 'introvert' 'introvert' ... 'introvert' 'introvert'\n",
      " 'extrovert']\n"
     ]
    }
   ],
   "source": [
    "#32.\tHow do you convert all values in Personality to lowercase?\n",
    "values =df['Personality'].dropna()\n",
    "safe=np.array(values.astype(str),dtype='U')\n",
    "lower = np.char.lower(safe)\n",
    "print(lower)\n"
   ]
  },
  {
   "cell_type": "code",
   "execution_count": 4,
   "id": "9743ddc4",
   "metadata": {},
   "outputs": [
    {
     "name": "stdout",
     "output_type": "stream",
     "text": [
      "['No' 'Yes' 'Yes' ... 'Yes' 'Yes' 'No']\n"
     ]
    }
   ],
   "source": [
    "#33.\tHow do you make only the first letter uppercase in each value of Drained_after_socializing?\n",
    "import numpy as np\n",
    "import pandas as pd\n",
    "df=pd.read_csv('personality_dataset.csv')\n",
    "clean =df['Drained_after_socializing'].dropna()\n",
    "string = np.array(clean.astype(str),dtype='U')\n",
    "first_letter =np.char.capitalize(string)\n",
    "print(first_letter)"
   ]
  },
  {
   "cell_type": "code",
   "execution_count": 5,
   "id": "e3510814",
   "metadata": {},
   "outputs": [
    {
     "name": "stdout",
     "output_type": "stream",
     "text": [
      "['No' 'Yes' 'Yes' ... 'Yes' 'Yes' 'No']\n"
     ]
    }
   ],
   "source": [
    "#34.\tHow do you capitalize the first letter of every word in each value of Stage_fear?\n",
    "import numpy as np\n",
    "import pandas as pd\n",
    "df=pd.read_csv('personality_dataset.csv')\n",
    "clean =df['Drained_after_socializing'].dropna()\n",
    "string = np.array(clean.astype(str),dtype='U')\n",
    "captalize =np.char.title(string)\n",
    "print(captalize)"
   ]
  },
  {
   "cell_type": "code",
   "execution_count": 7,
   "id": "95d060eb",
   "metadata": {},
   "outputs": [
    {
     "name": "stdout",
     "output_type": "stream",
     "text": [
      "['eXTROVERT' 'iNTROVERT' 'iNTROVERT' ... 'iNTROVERT' 'iNTROVERT'\n",
      " 'eXTROVERT']\n"
     ]
    }
   ],
   "source": [
    "#35.\tHow do you swap upper-case and lower-case letters in Personality?\n",
    "df=pd.read_csv('personality_dataset.csv')\n",
    "filter =df['Personality'].dropna()\n",
    "convert =np.array(filter.astype(str),dtype='U')\n",
    "swap =np.char.swapcase(convert)\n",
    "print(swap)\n",
    "\n",
    "\n"
   ]
  },
  {
   "cell_type": "code",
   "execution_count": 8,
   "id": "83536515",
   "metadata": {},
   "outputs": [
    {
     "name": "stdout",
     "output_type": "stream",
     "text": [
      "['No' 'Yes' 'Yes' ... 'Yes' 'Yes' 'No']\n"
     ]
    }
   ],
   "source": [
    "#36.\tHow do you remove spaces from both ends of each value in Stage_fear?\n",
    "df=pd.read_csv('personality_dataset.csv')\n",
    "filter =df['Stage_fear'].dropna()\n",
    "convert =np.array(filter.astype(str),dtype='U')\n",
    "strip =np.char.strip(convert)\n",
    "print(strip)\n",
    "\n"
   ]
  },
  {
   "cell_type": "code",
   "execution_count": null,
   "id": "c8934e22",
   "metadata": {},
   "outputs": [],
   "source": [
    "#37.\tHow do you remove spaces only from the beginning of each string in Drained_after_socializing?\n",
    "df=pd.read_csv('personality_dataset.csv')\n",
    "filter =df['Drained_after_socializing'].dropna()\n",
    "convert =np.array(filter.astype(str),dtype='U')\n",
    "space =np.char.lstrip(convert)\n",
    "print(space)"
   ]
  },
  {
   "cell_type": "code",
   "execution_count": null,
   "id": "bb91e161",
   "metadata": {},
   "outputs": [],
   "source": [
    "#38.\tHow do you remove spaces only from the end of each string in Personality?\n",
    "df=pd.read_csv('personality_dataset.csv')\n",
    "filter =df['Personality'].dropna()\n",
    "convert =np.array(filter.astype(str),dtype='U')\n",
    "last =np.char.rstrip(convert)\n",
    "print(last)\n",
    "\n"
   ]
  },
  {
   "cell_type": "code",
   "execution_count": 11,
   "id": "ab428d0c",
   "metadata": {},
   "outputs": [
    {
     "name": "stdout",
     "output_type": "stream",
     "text": [
      "[list(['No']) list(['Yes']) list(['Yes']) ... list(['Yes']) list(['Yes'])\n",
      " list(['No'])]\n"
     ]
    }
   ],
   "source": [
    "#39.\tHow do you split each sentence in Stage_fear into separate words?\n",
    "df=pd.read_csv('personality_dataset.csv')\n",
    "filter =df['Stage_fear'].dropna()\n",
    "convert =np.array(filter.astype(str),dtype='U')\n",
    "split = np.char.split(convert)\n",
    "print(split)\n"
   ]
  },
  {
   "cell_type": "code",
   "execution_count": 12,
   "id": "29a35847",
   "metadata": {},
   "outputs": [
    {
     "name": "stdout",
     "output_type": "stream",
     "text": [
      "[list(['No']) list(['Yes']) list(['Yes']) ... list(['Yes']) list(['Yes'])\n",
      " list(['No'])]\n"
     ]
    }
   ],
   "source": [
    "#40.\tHow do you split multi-line text in Personality into individual lines?\n",
    "df=pd.read_csv('personality_dataset.csv')\n",
    "filter =df['Stage_fear'].dropna()\n",
    "convert =np.array(filter.astype(str),dtype='U')\n",
    "lines =np.char.splitlines(convert)\n",
    "print(lines)\n"
   ]
  },
  {
   "cell_type": "code",
   "execution_count": 16,
   "id": "309d14ce",
   "metadata": {},
   "outputs": [
    {
     "name": "stdout",
     "output_type": "stream",
     "text": [
      "['N-o' 'Y-e-s' 'Y-e-s' ... 'Y-e-s' 'Y-e-s' 'N-o']\n"
     ]
    }
   ],
   "source": [
    "#41.\tHow do you insert a - between every character in each value of Drained_after_socializing?\n",
    "df=pd.read_csv('personality_dataset.csv')\n",
    "filter =df['Stage_fear'].dropna()\n",
    "convert =np.array(filter.astype(str),dtype='U')\n",
    "insert =np.char.join('-',convert)\n",
    "print(insert)"
   ]
  },
  {
   "cell_type": "code",
   "execution_count": null,
   "id": "3dc4f68c",
   "metadata": {},
   "outputs": [
    {
     "name": "stdout",
     "output_type": "stream",
     "text": [
      "['No' 'Tru' 'Tru' ... 'Tru' 'Tru' 'No']\n"
     ]
    }
   ],
   "source": [
    "#42.\tHow do you replace the word \"shy\" with \"confident\" in Stage_fear?\n",
    "df=pd.read_csv('personality_dataset.csv')\n",
    "filter =df['Stage_fear'].dropna()\n",
    "convert =np.array(filter.astype(str),dtype='U')\n",
    "replace=np.char.replace(convert,'Yes','True')\n",
    "print(replace)"
   ]
  },
  {
   "cell_type": "code",
   "execution_count": 24,
   "id": "5626200f",
   "metadata": {},
   "outputs": [
    {
     "name": "stdout",
     "output_type": "stream",
     "text": [
      "['*****Extrovert******' '*****Introvert******' '*****Introvert******' ...\n",
      " '*****Introvert******' '*****Introvert******' '*****Extrovert******']\n"
     ]
    }
   ],
   "source": [
    "#43.\tHow do you center-align each string in Personality using * as padding?\n",
    "df=pd.read_csv('personality_dataset.csv')\n",
    "filter =df['Personality'].dropna()\n",
    "convert =np.array(filter.astype(str),dtype='U')\n",
    "center =np.char.center(convert,width=20,fillchar='*')\n",
    "print(center)\n",
    "\n"
   ]
  },
  {
   "cell_type": "code",
   "execution_count": 25,
   "id": "19e9b5ae",
   "metadata": {},
   "outputs": [
    {
     "name": "stdout",
     "output_type": "stream",
     "text": [
      "['Extrovert-----------' 'Introvert-----------' 'Introvert-----------' ...\n",
      " 'Introvert-----------' 'Introvert-----------' 'Extrovert-----------']\n"
     ]
    }
   ],
   "source": [
    "#44.\tHow do you left-align each value in Stage_fear using - as padding?\n",
    "df=pd.read_csv('personality_dataset.csv')\n",
    "filter =df['Personality'].dropna()\n",
    "convert =np.array(filter.astype(str),dtype='U')\n",
    "left=np.char.ljust(convert,width=20,fillchar='-')\n",
    "print(left)\n"
   ]
  },
  {
   "cell_type": "code",
   "execution_count": 26,
   "id": "87b296c1",
   "metadata": {},
   "outputs": [
    {
     "name": "stdout",
     "output_type": "stream",
     "text": [
      "['___________Extrovert' '___________Introvert' '___________Introvert' ...\n",
      " '___________Introvert' '___________Introvert' '___________Extrovert']\n"
     ]
    }
   ],
   "source": [
    "#45.How do you right-align each string in Drained_after_socializing using _?\n",
    "df=pd.read_csv('personality_dataset.csv')\n",
    "filter =df['Personality'].dropna()\n",
    "convert =np.array(filter.astype(str),dtype='U')\n",
    "left=np.char.rjust(convert,width=20,fillchar='_')\n",
    "print(left)"
   ]
  },
  {
   "cell_type": "code",
   "execution_count": 30,
   "id": "a6a9dfe0",
   "metadata": {},
   "outputs": [
    {
     "name": "stdout",
     "output_type": "stream",
     "text": [
      "['0Extrovert' '0Introvert' '0Introvert' ... '0Introvert' '0Introvert'\n",
      " '0Extrovert']\n"
     ]
    }
   ],
   "source": [
    "#46.\tHow do you fill each value in Stage_fear with leading zeros until the length becomes 10?\n",
    "df=pd.read_csv('personality_dataset.csv')\n",
    "filter =df['Personality'].dropna()\n",
    "convert =np.array(filter.astype(str),dtype='U')\n",
    "zero=np.char.zfill(convert,10)\n",
    "print(zero)"
   ]
  },
  {
   "cell_type": "code",
   "execution_count": 31,
   "id": "c56d941e",
   "metadata": {},
   "outputs": [
    {
     "name": "stdout",
     "output_type": "stream",
     "text": [
      "[-1 -1 -1 ... -1 -1 -1]\n"
     ]
    }
   ],
   "source": [
    "#47.\tHow do you find the starting index of the word \"fear\" in each value of Stage_fear?\n",
    "df=pd.read_csv('personality_dataset.csv')\n",
    "filter =df['Personality'].dropna()\n",
    "convert =np.array(filter.astype(str),dtype='U')\n",
    "find =np.char.find(convert,'fear')\n",
    "print(find)\n"
   ]
  },
  {
   "cell_type": "code",
   "execution_count": 38,
   "id": "1855ecdc",
   "metadata": {},
   "outputs": [
    {
     "name": "stdout",
     "output_type": "stream",
     "text": [
      "[-1  0  0 ...  0  0 -1]\n"
     ]
    }
   ],
   "source": [
    "#48.\tHow do you raise an error if \"calm\" is not found in Drained_after_socializing?\n",
    "df=pd.read_csv('personality_dataset.csv')\n",
    "filter =df['Personality'].dropna()\n",
    "\n",
    "convert =np.array(filter.astype(str),dtype='U')\n",
    "index=np.char.find(convert,'Introvert')\n",
    "print(index)\n"
   ]
  },
  {
   "cell_type": "code",
   "execution_count": 45,
   "id": "d04692bf",
   "metadata": {},
   "outputs": [
    {
     "name": "stdout",
     "output_type": "stream",
     "text": [
      "[0 0 0 ... 0 0 0]\n"
     ]
    }
   ],
   "source": [
    "#49.\tHow many times does the word \"social\" appear in each Personality value?\n",
    "df=pd.read_csv('personality_dataset.csv')\n",
    "filter =df['Personality'].dropna()\n",
    "\n",
    "convert =np.array(filter.astype(str),dtype='U')\n",
    "total =np.char.count(convert,'social')\n",
    "print(total)"
   ]
  },
  {
   "cell_type": "code",
   "execution_count": 46,
   "id": "fa5d8e0b",
   "metadata": {},
   "outputs": [
    {
     "name": "stdout",
     "output_type": "stream",
     "text": [
      "[False False False ... False False False]\n"
     ]
    }
   ],
   "source": [
    "#50.\tDoes each string in Stage_fear start with \"high\"?\n",
    "df=pd.read_csv('personality_dataset.csv')\n",
    "filter =df['Personality'].dropna()\n",
    "\n",
    "convert =np.array(filter.astype(str),dtype='U')\n",
    "check =np.char.startswith(convert,'high')\n",
    "print(check)\n"
   ]
  },
  {
   "cell_type": "code",
   "execution_count": 47,
   "id": "0d57c2ad",
   "metadata": {},
   "outputs": [
    {
     "name": "stdout",
     "output_type": "stream",
     "text": [
      "[False False False ... False False False]\n"
     ]
    }
   ],
   "source": [
    "#51.\tDoes each string in Drained_after_socializing end with \"low\"?\n",
    "df=pd.read_csv('personality_dataset.csv')\n",
    "filter =df['Personality'].dropna()\n",
    "\n",
    "convert =np.array(filter.astype(str),dtype='U')\n",
    "check= np.char.endswith(convert,'low')\n",
    "print(check)\n"
   ]
  },
  {
   "cell_type": "code",
   "execution_count": 53,
   "id": "3305e986",
   "metadata": {},
   "outputs": [
    {
     "name": "stdout",
     "output_type": "stream",
     "text": [
      "[False False False ... False False False]\n"
     ]
    }
   ],
   "source": [
    "#52.\tAre all values in Personality made of numeric characters only?\n",
    "df=pd.read_csv('personality_dataset.csv')\n",
    "filter =df['Personality'].dropna()\n",
    "\n",
    "convert =np.array(filter.astype(str),dtype='U')\n",
    "check=np.char.isnumeric(convert)\n",
    "print(check)"
   ]
  },
  {
   "cell_type": "code",
   "execution_count": 54,
   "id": "56202977",
   "metadata": {},
   "outputs": [
    {
     "name": "stdout",
     "output_type": "stream",
     "text": [
      "[ True  True  True ...  True  True  True]\n"
     ]
    }
   ],
   "source": [
    "#53.\tDo all values in Stage_fear have only alphabetic letters?\n",
    "df=pd.read_csv('personality_dataset.csv')\n",
    "filter =df['Stage_fear'].dropna()\n",
    "\n",
    "convert =np.array(filter.astype(str),dtype='U')\n",
    "alpha =np.char.isalpha(convert)\n",
    "print(alpha)\n"
   ]
  },
  {
   "cell_type": "code",
   "execution_count": null,
   "id": "0d0be303",
   "metadata": {},
   "outputs": [],
   "source": [
    "#54.\tAre values in Drained_after_socializing entirely digits?\n",
    "df=pd.read_csv('personality_dataset.csv')\n",
    "filter =df['Stage_fear'].dropna()\n",
    "\n",
    "convert =np.array(filter.astype(str),dtype='U')\n",
    "digit =np.char.isdigit(convert)\n",
    "print(digit)\n"
   ]
  },
  {
   "cell_type": "code",
   "execution_count": null,
   "id": "a6be487c",
   "metadata": {},
   "outputs": [],
   "source": [
    "#55.\tAre any values in Personality made of only spaces?\n",
    "df=pd.read_csv('personality_dataset.csv')\n",
    "filter =df['Stage_fear'].dropna()\n",
    "\n",
    "convert =np.array(filter.astype(str),dtype='U')\n",
    "space =np.char.isspace(convert)\n",
    "print(space)"
   ]
  },
  {
   "cell_type": "code",
   "execution_count": null,
   "id": "0201f410",
   "metadata": {},
   "outputs": [],
   "source": [
    "#56.\tAre all letters in Stage_fear lowercase?\n",
    "df=pd.read_csv('personality_dataset.csv')\n",
    "filter =df['Stage_fear'].dropna()\n",
    "\n",
    "convert =np.array(filter.astype(str),dtype='U')\n",
    "lower=np.char.islower(convert)\n",
    "print(lower)\n"
   ]
  },
  {
   "cell_type": "code",
   "execution_count": 58,
   "id": "d290919a",
   "metadata": {},
   "outputs": [
    {
     "name": "stdout",
     "output_type": "stream",
     "text": [
      "[False False False ... False False False]\n"
     ]
    }
   ],
   "source": [
    "#57.\tAre all letters in Drained_after_socializing uppercase?\n",
    "df=pd.read_csv('personality_dataset.csv')\n",
    "filter =df['Stage_fear'].dropna()\n",
    "\n",
    "convert =np.array(filter.astype(str),dtype='U')\n",
    "upper= np.char.isupper(convert)\n",
    "print(upper)"
   ]
  },
  {
   "cell_type": "code",
   "execution_count": 59,
   "id": "a45396e7",
   "metadata": {},
   "outputs": [
    {
     "name": "stdout",
     "output_type": "stream",
     "text": [
      "[ True  True  True ...  True  True  True]\n"
     ]
    }
   ],
   "source": [
    "#58.\tAre values in Personality written in title case?\n",
    "df=pd.read_csv('personality_dataset.csv')\n",
    "filter =df['Stage_fear'].dropna()\n",
    "\n",
    "convert =np.array(filter.astype(str),dtype='U')\n",
    "title =np.char.istitle(convert)\n",
    "print(title)"
   ]
  },
  {
   "cell_type": "code",
   "execution_count": 64,
   "id": "e5b36ed5",
   "metadata": {},
   "outputs": [
    {
     "name": "stdout",
     "output_type": "stream",
     "text": [
      "[ True  True  True ...  True  True  True]\n"
     ]
    }
   ],
   "source": [
    "#59.\tCompare values in Stage_fear and Drained_after_socializing element-wise — are they equal?\n",
    "df=pd.read_csv('personality_dataset.csv')\n",
    "\n",
    "filter =df[['Stage_fear','Drained_after_socializing']].dropna()\n",
    "\n",
    "convert =np.array(filter['Stage_fear'].astype(str),dtype='U')\n",
    "convert2=np.array(filter['Drained_after_socializing'].astype(str),dtype='U')\n",
    "equality =np.equal(convert,convert2)\n",
    "print(equality)\n",
    "\n"
   ]
  },
  {
   "cell_type": "code",
   "execution_count": 69,
   "id": "39b3b397",
   "metadata": {},
   "outputs": [
    {
     "name": "stdout",
     "output_type": "stream",
     "text": [
      "['No Extrovert' 'Yes Introvert' 'Yes Introvert' ... 'Yes Introvert'\n",
      " 'Yes Introvert' 'No Extrovert']\n"
     ]
    }
   ],
   "source": [
    "#60.\tHow do you join values from Stage_fear and Personality with a space in between?\n",
    "df=pd.read_csv('personality_dataset.csv')\n",
    "\n",
    "filter =df[['Stage_fear','Personality']].dropna()\n",
    "\n",
    "convert =np.array(filter['Stage_fear'].astype(str),dtype='U')\n",
    "convert2=np.array(filter['Personality'].astype(str),dtype='U')\n",
    "equality=np.char.add(np.char.add(convert,' '),convert2)\n",
    "print(equality)"
   ]
  },
  {
   "cell_type": "code",
   "execution_count": 70,
   "id": "3ec49ea9",
   "metadata": {},
   "outputs": [
    {
     "name": "stdout",
     "output_type": "stream",
     "text": [
      "4.505816002819881\n"
     ]
    }
   ],
   "source": [
    "#1.\tWhat is the mean of Time_spent_Alone?\n",
    "mean=np.mean(df['Time_spent_Alone'])\n",
    "print(mean)"
   ]
  },
  {
   "cell_type": "code",
   "execution_count": 71,
   "id": "b683ef33",
   "metadata": {},
   "outputs": [
    {
     "name": "stdout",
     "output_type": "stream",
     "text": [
      "nan\n"
     ]
    }
   ],
   "source": [
    "#2.\tWhat is the median of Going_outside?\n",
    "median = np.median(df['Going_outside'])\n",
    "print(median)"
   ]
  },
  {
   "cell_type": "code",
   "execution_count": 72,
   "id": "9a92f8bd",
   "metadata": {},
   "outputs": [
    {
     "name": "stdout",
     "output_type": "stream",
     "text": [
      "4.288932987849525\n"
     ]
    }
   ],
   "source": [
    "#3.\tWhat is the standard deviation of Friends_circle_size?\n",
    "std=np.std(df['Friends_circle_size'])\n",
    "print(std)"
   ]
  },
  {
   "cell_type": "code",
   "execution_count": 73,
   "id": "3d9d64b4",
   "metadata": {},
   "outputs": [
    {
     "name": "stdout",
     "output_type": "stream",
     "text": [
      "8.561859845904525\n"
     ]
    }
   ],
   "source": [
    "#4.\tWhat is the variance of Post_frequency?\n",
    "std=np.var(df['Post_frequency'])\n",
    "print(std)"
   ]
  },
  {
   "cell_type": "code",
   "execution_count": 74,
   "id": "5a511898",
   "metadata": {},
   "outputs": [
    {
     "name": "stdout",
     "output_type": "stream",
     "text": [
      "0.0\n"
     ]
    }
   ],
   "source": [
    "#5.\tWhat is the min value in Social_event_attendance?\n",
    "min=np.min(df['Social_event_attendance'])\n",
    "print(min)"
   ]
  },
  {
   "cell_type": "code",
   "execution_count": 75,
   "id": "131b1796",
   "metadata": {},
   "outputs": [
    {
     "name": "stdout",
     "output_type": "stream",
     "text": [
      "11.0\n"
     ]
    }
   ],
   "source": [
    "#6.\tWhat is the max value in Time_spent_Alone?\n",
    "max=np.max(df['Time_spent_Alone'])\n",
    "print(max)"
   ]
  },
  {
   "cell_type": "code",
   "execution_count": 78,
   "id": "c1151dea",
   "metadata": {},
   "outputs": [
    {
     "name": "stdout",
     "output_type": "stream",
     "text": [
      "10.0\n"
     ]
    }
   ],
   "source": [
    "#7.\tWhat is the range (ptp) of Post_frequency?\n",
    "range=np.ptp(df['Post_frequency'].dropna())\n",
    "print(range)"
   ]
  },
  {
   "cell_type": "code",
   "execution_count": 82,
   "id": "e042e1d8",
   "metadata": {},
   "outputs": [
    {
     "name": "stdout",
     "output_type": "stream",
     "text": [
      "1.0\n"
     ]
    }
   ],
   "source": [
    "#8.\tWhat is the 25th percentile of Going_outside?\n",
    "percentile =np.percentile(df['Going_outside'].dropna(),25)\n",
    "print(percentile)"
   ]
  },
  {
   "cell_type": "code",
   "execution_count": 83,
   "id": "452282ae",
   "metadata": {},
   "outputs": [
    {
     "name": "stdout",
     "output_type": "stream",
     "text": [
      "10.0\n"
     ]
    }
   ],
   "source": [
    "#9.\tWhat is the 75th percentile of Friends_circle_size?\n",
    "percentile75=np.percentile(df['Friends_circle_size'].dropna(),75)\n",
    "print(percentile75)"
   ]
  },
  {
   "cell_type": "code",
   "execution_count": 86,
   "id": "7e975b86",
   "metadata": {},
   "outputs": [
    {
     "name": "stdout",
     "output_type": "stream",
     "text": [
      "1.0\n"
     ]
    }
   ],
   "source": [
    "#10.\tWhat is the interquartile range of Post_frequency?\n",
    "quantile =np.quantile(df['Post_frequency'].dropna(),0.25)\n",
    "print(quantile)"
   ]
  },
  {
   "cell_type": "code",
   "execution_count": 89,
   "id": "01deb99f",
   "metadata": {},
   "outputs": [
    {
     "name": "stdout",
     "output_type": "stream",
     "text": [
      "0.38561740281783413\n"
     ]
    }
   ],
   "source": [
    "#11.\tWhat is the skewness of Time_spent_Alone?\n",
    "from scipy.stats import skew\n",
    "skew1=skew(df['Time_spent_Alone'].dropna())\n",
    "print(skew1)"
   ]
  },
  {
   "cell_type": "code",
   "execution_count": 90,
   "id": "433315d6",
   "metadata": {},
   "outputs": [
    {
     "name": "stdout",
     "output_type": "stream",
     "text": [
      "-1.260164632410231\n"
     ]
    }
   ],
   "source": [
    "#12.\tWhat is the kurtosis of Going_outside?\n",
    "from scipy.stats import kurtosis\n",
    "kurtosis1 =kurtosis(df['Going_outside'].dropna())\n",
    "print(kurtosis1)"
   ]
  },
  {
   "cell_type": "code",
   "execution_count": 96,
   "id": "fa5da3a7",
   "metadata": {},
   "outputs": [
    {
     "name": "stdout",
     "output_type": "stream",
     "text": [
      "2.0\n"
     ]
    }
   ],
   "source": [
    "#13.\tWhat is the median absolute deviation of Social_event_attendance?\n",
    "import numpy as np\n",
    "clean =df['Social_event_attendance'].dropna()\n",
    "median=np.median(clean)\n",
    "mad=np.median(np.abs(clean-median))\n",
    "print(mad)"
   ]
  },
  {
   "cell_type": "code",
   "execution_count": null,
   "id": "dbf59967",
   "metadata": {},
   "outputs": [],
   "source": [
    "#14.\tWhat is the mean ignoring NaNs in Time_spent_Alone?\n",
    "mean=np.mean(df['Time_spent_Alone'].dropna())\n",
    "print(mean)"
   ]
  },
  {
   "cell_type": "code",
   "execution_count": null,
   "id": "90033d5a",
   "metadata": {},
   "outputs": [],
   "source": [
    "#15.\tWhat is the std ignoring NaNs in Post_frequency?\n",
    "std=np.std(df['Post_frequency'].dropna())\n",
    "print(std)"
   ]
  },
  {
   "cell_type": "code",
   "execution_count": null,
   "id": "c1965c48",
   "metadata": {},
   "outputs": [],
   "source": [
    "#16.\tWhat is the variance ignoring NaNs in Friends_circle_size?\n",
    "variance=np.nanvar(df['Friends_circle_size'].dropna())\n",
    "print(variance)"
   ]
  },
  {
   "cell_type": "code",
   "execution_count": null,
   "id": "d44dd33b",
   "metadata": {},
   "outputs": [],
   "source": [
    "#17.\tWhat is the count of values above the mean in Going_outside?\n",
    "mean=np.mean(df['Going_outside'].dropna())\n",
    "count =np.sum(df['Going_outside'].dropna()>mean)\n",
    "print(count)"
   ]
  },
  {
   "cell_type": "code",
   "execution_count": null,
   "id": "266cb2b3",
   "metadata": {},
   "outputs": [],
   "source": [
    "#18.\tWhat is the z-score normalization of Social_event_attendance?\n",
    "from scipy.stats import zscore\n",
    "zscore1=zscore(df['Social_event_attendance'],nan_policy='omit')\n",
    "print(zscore1)"
   ]
  },
  {
   "cell_type": "code",
   "execution_count": null,
   "id": "63696bed",
   "metadata": {},
   "outputs": [],
   "source": [
    "#19.\tWhat is the cumulative sum of Time_spent_Alone?\n",
    "cummalative =np.cumsum(df['Time_spent_Alone'].dropna())\n",
    "print(cummalative)"
   ]
  },
  {
   "cell_type": "code",
   "execution_count": 120,
   "id": "2c8be76a",
   "metadata": {},
   "outputs": [
    {
     "name": "stdout",
     "output_type": "stream",
     "text": [
      "2.0\n"
     ]
    }
   ],
   "source": [
    "#20.\tWhat is the mode of Post_frequency?\n",
    "import numpy as np\n",
    "value,count =np.unique(df['Post_frequency'].dropna(),return_counts=True)\n",
    "values =value[np.argmax(count)]\n",
    "print(values)\n"
   ]
  },
  {
   "cell_type": "code",
   "execution_count": 122,
   "id": "0e96e66f",
   "metadata": {},
   "outputs": [
    {
     "name": "stdout",
     "output_type": "stream",
     "text": [
      "(array([387, 274, 537, 301, 270, 165, 281, 134, 271, 203]), array([ 0. ,  1.5,  3. ,  4.5,  6. ,  7.5,  9. , 10.5, 12. , 13.5, 15. ]))\n"
     ]
    }
   ],
   "source": [
    "#21.\tCreate a histogram of Friends_circle_size.\n",
    "import matplotlib.pyplot as plt\n",
    "import numpy as np\n",
    "histogram =np.histogram(df['Friends_circle_size'].dropna())\n",
    "print(histogram)"
   ]
  },
  {
   "cell_type": "code",
   "execution_count": 124,
   "id": "d7991b1e",
   "metadata": {},
   "outputs": [
    {
     "name": "stdout",
     "output_type": "stream",
     "text": [
      "[ 0.   1.5  3.   4.5  6.   7.5  9.  10.5 12.  13.5 15. ]\n"
     ]
    }
   ],
   "source": [
    "#22.\tGet bin edges for Post_frequency.\n",
    "import numpy as np\n",
    "edges =np.histogram_bin_edges(df['Friends_circle_size'].dropna())\n",
    "print(edges)\n"
   ]
  },
  {
   "cell_type": "code",
   "execution_count": 128,
   "id": "cc1c7b20",
   "metadata": {},
   "outputs": [
    {
     "name": "stdout",
     "output_type": "stream",
     "text": [
      "8\n"
     ]
    }
   ],
   "source": [
    "#23.\tCount unique values in Going_outside.\n",
    "import numpy as np\n",
    "unique=(df['Going_outside'].dropna()).nunique()\n",
    "print(unique)"
   ]
  },
  {
   "cell_type": "code",
   "execution_count": 130,
   "id": "88cd8830",
   "metadata": {},
   "outputs": [
    {
     "name": "stdout",
     "output_type": "stream",
     "text": [
      "369\n"
     ]
    }
   ],
   "source": [
    "#24.\tCount the number of zeros in Time_spent_Alone.\n",
    "import numpy as np\n",
    "zeros =np.sum(df['Time_spent_Alone']==0)\n",
    "print(zeros)"
   ]
  },
  {
   "cell_type": "code",
   "execution_count": 135,
   "id": "c9dc001f",
   "metadata": {},
   "outputs": [
    {
     "name": "stdout",
     "output_type": "stream",
     "text": [
      "0.29458578986658907\n"
     ]
    }
   ],
   "source": [
    "#21.\tWhat is the skewness of Social_event_attendance?\n",
    "from scipy.stats import skew\n",
    "skew1 =skew(df['Social_event_attendance'].dropna())\n",
    "print(skew1)"
   ]
  },
  {
   "cell_type": "code",
   "execution_count": 136,
   "id": "139dade3",
   "metadata": {},
   "outputs": [
    {
     "name": "stdout",
     "output_type": "stream",
     "text": [
      "-1.0755257825782525\n"
     ]
    }
   ],
   "source": [
    "#22.\tWhat is the kurtosis of Post_frequency?\n",
    "from scipy.stats import kurtosis\n",
    "kurtosis1 =kurtosis(df['Post_frequency'].dropna())\n",
    "print(kurtosis1)"
   ]
  },
  {
   "cell_type": "code",
   "execution_count": 138,
   "id": "e0181426",
   "metadata": {},
   "outputs": [
    {
     "name": "stdout",
     "output_type": "stream",
     "text": [
      "33.51641570202217\n"
     ]
    }
   ],
   "source": [
    "#23.\tWhat is the 3rd central moment of Friends_circle_size?\n",
    "from scipy.stats import moment\n",
    "moment1 =moment(df['Friends_circle_size'].dropna(),3)\n",
    "print(moment1)\n"
   ]
  },
  {
   "cell_type": "code",
   "execution_count": 139,
   "id": "f602084b",
   "metadata": {},
   "outputs": [
    {
     "name": "stdout",
     "output_type": "stream",
     "text": [
      "8.564880967939072\n"
     ]
    }
   ],
   "source": [
    "#24.\tWhat is the 4th k-statistic of Post_frequency?\n",
    "from scipy.stats import kstat\n",
    "kstat1 =kstat(df['Post_frequency'].dropna())\n",
    "print(kstat1)\n"
   ]
  },
  {
   "cell_type": "code",
   "execution_count": 142,
   "id": "cf414b7a",
   "metadata": {},
   "outputs": [
    {
     "name": "stdout",
     "output_type": "stream",
     "text": [
      "0.02145510109726964\n"
     ]
    }
   ],
   "source": [
    "#25.\tWhat is the variance of the 2nd k-statistic for Social_event_attendance?\n",
    "from scipy.stats import kstatvar\n",
    "variance =kstatvar(df['Social_event_attendance'].dropna(),2)\n",
    "print(variance)\n"
   ]
  },
  {
   "cell_type": "code",
   "execution_count": null,
   "id": "44370a1b",
   "metadata": {},
   "outputs": [],
   "source": [
    "#26.\tWhat is the normal PDF of Post_frequency values?\n",
    "from scipy.stats import norm\n",
    "data =df['Post_frequency'].dropna()\n",
    "mean=data.mean()\n",
    "std=data.std()\n",
    "pdf_value =norm.pdf(data,loc=mean,scale=std)\n",
    "print(pdf_value)\n"
   ]
  },
  {
   "cell_type": "code",
   "execution_count": null,
   "id": "f139cd47",
   "metadata": {},
   "outputs": [],
   "source": [
    "#27.\tWhat is the normal CDF of Friends_circle_size values?\n",
    "from scipy.stats import norm\n",
    "data=df['Friends_circle_size'].dropna()\n",
    "mean=data.mean()\n",
    "std=data.std()\n",
    "cdf_value =norm.cdf(data,loc=mean,scale=std)\n",
    "print(cdf_value)\n"
   ]
  },
  {
   "cell_type": "code",
   "execution_count": 148,
   "id": "c8f582e9",
   "metadata": {},
   "outputs": [
    {
     "name": "stdout",
     "output_type": "stream",
     "text": [
      "[ 7.91616112  2.34753801  3.7805795   5.95808834  5.81662299  5.89433226\n",
      "  6.57401013 -1.57238982  6.25718761 15.20895513]\n"
     ]
    }
   ],
   "source": [
    "#28.\tGenerate 10 normal random samples to simulate Time_spent_Alone.\n",
    "from scipy.stats import norm\n",
    "data =df['Time_spent_Alone'].dropna()\n",
    "mean=data.mean()\n",
    "std=data.std()\n",
    "random =norm.rvs(loc=mean,scale=std,size=10)\n",
    "print(random)\n"
   ]
  },
  {
   "cell_type": "code",
   "execution_count": 149,
   "id": "db25371f",
   "metadata": {},
   "outputs": [
    {
     "name": "stdout",
     "output_type": "stream",
     "text": [
      "[0.01831564 1.         0.36787944 ... 0.36787944 0.36787944 0.00247875]\n"
     ]
    }
   ],
   "source": [
    "#29.\tWhat is the exponential PDF of Social_event_attendance values?\n",
    "from scipy.stats import expon\n",
    "clean =df['Social_event_attendance'].dropna()\n",
    "exponent =expon.pdf(clean)\n",
    "print(exponent)"
   ]
  },
  {
   "cell_type": "code",
   "execution_count": 150,
   "id": "31315aab",
   "metadata": {},
   "outputs": [
    {
     "name": "stdout",
     "output_type": "stream",
     "text": [
      "[ 4.77217     9.22036779  9.85795828 ...  6.51788987 12.0715005\n",
      "  4.33227161]\n"
     ]
    }
   ],
   "source": [
    "#30.\tGenerate exponential random values based on Time_spent_Alone.\n",
    "from scipy.stats import expon\n",
    "clean =df['Time_spent_Alone'].dropna()\n",
    "exponent1=expon.rvs(clean)\n",
    "print(exponent1)"
   ]
  },
  {
   "cell_type": "code",
   "execution_count": 152,
   "id": "37b5de46",
   "metadata": {},
   "outputs": [
    {
     "name": "stdout",
     "output_type": "stream",
     "text": [
      "[1.02919345e-01 2.66827932e-01 2.33474441e-01 ... 2.82475249e-02\n",
      " 2.82475249e-02 1.37781000e-04]\n"
     ]
    }
   ],
   "source": [
    "#31.\tWhat is the binomial PMF for Post_frequency with n=10, p=0.3?\n",
    "from scipy.stats import binom\n",
    "clean =df['Post_frequency'].dropna()\n",
    "binomial =binom.pmf(clean,n=10,p=0.3)\n",
    "print(binomial)"
   ]
  },
  {
   "cell_type": "code",
   "execution_count": 159,
   "id": "f83257b9",
   "metadata": {},
   "outputs": [
    {
     "name": "stdout",
     "output_type": "stream",
     "text": [
      "[5 4 4 4 4]\n"
     ]
    }
   ],
   "source": [
    "#32.\tGenerate 5 binomial random samples simulating Going_outside.\n",
    "from scipy.stats import binom\n",
    "clean =df['Going_outside'].dropna()\n",
    "binary =np.where(clean>=1,1,0)\n",
    "p=binary.mean()\n",
    "\n",
    "rvs =binom.rvs(n=5,p=p,size=5)\n",
    "print(rvs)"
   ]
  },
  {
   "cell_type": "code",
   "execution_count": 161,
   "id": "c4901143",
   "metadata": {},
   "outputs": [
    {
     "name": "stdout",
     "output_type": "stream",
     "text": [
      "[3.60894089e-02 1.80447044e-01 2.70670566e-01 ... 1.35335283e-01\n",
      " 1.35335283e-01 1.90949253e-04]\n"
     ]
    }
   ],
   "source": [
    "#33.\tWhat is the Poisson PMF of Post_frequency values with λ=2?\n",
    "from scipy.stats import poisson\n",
    "clean =df['Post_frequency'].dropna().astype(int)\n",
    "poisson  = poisson.pmf(clean,mu=2)\n",
    "print(poisson)\n"
   ]
  },
  {
   "cell_type": "code",
   "execution_count": null,
   "id": "7a6da9ab",
   "metadata": {},
   "outputs": [],
   "source": [
    "#34.\tGenerate Poisson-distributed samples for Post_frequency.\n",
    "from scipy.stats import poisson\n",
    "clean =df['Post_frequency'].dropna().astype(int)\n",
    "poison =poisson.rvs(clean)\n",
    "print(poison)\n",
    "\n"
   ]
  },
  {
   "cell_type": "code",
   "execution_count": null,
   "id": "56832819",
   "metadata": {},
   "outputs": [],
   "source": [
    "#35.\tCompute the uniform PDF for Friends_circle_size.\n",
    "from scipy.stats import uniform\n",
    "clean=df['Friends_circle_size'].dropna().astype(int)\n",
    "min =clean.min()\n",
    "max=clean.max()\n",
    "loc=min\n",
    "scale=max-min\n",
    "\n",
    "uniform1 =uniform.pdf(clean,loc=loc,scale=scale)\n",
    "print(uniform1)"
   ]
  },
  {
   "cell_type": "code",
   "execution_count": null,
   "id": "f89bb6e0",
   "metadata": {},
   "outputs": [],
   "source": [
    "#36.\tGenerate uniform random samples to simulate Post_frequency.\n",
    "from scipy.stats import uniform\n",
    "clean=df['Friends_circle_size'].dropna().astype(int)\n",
    "min =clean.min()\n",
    "max=clean.max()\n",
    "loc=min\n",
    "scale=max-min\n",
    "uniform1=uniform.rvs(clean)\n",
    "print(uniform1)"
   ]
  },
  {
   "cell_type": "code",
   "execution_count": null,
   "id": "caba3024",
   "metadata": {},
   "outputs": [],
   "source": [
    "#37.Compute the log-normal PDF of Time_spent_Alone.\n",
    "from scipy.stats import lognorm\n",
    "clean=df['Time_spent_Alone'].dropna().astype(int)\n",
    "s=1\n",
    "loc=0\n",
    "scale=clean.mean()\n",
    "norm =lognorm.pdf(clean,s=s,loc=loc,scale=scale)\n",
    "print(norm)\n"
   ]
  },
  {
   "cell_type": "code",
   "execution_count": 172,
   "id": "2c0b90f5",
   "metadata": {},
   "outputs": [
    {
     "name": "stdout",
     "output_type": "stream",
     "text": [
      "[0.04158641 0.         0.05730629 ... 0.05377375 0.03699103 0.05862806]\n"
     ]
    }
   ],
   "source": [
    "#38.\tCompute the gamma distribution PDF for Friends_circle_size.\n",
    "from scipy.stats import gamma\n",
    "clean=df['Friends_circle_size'].dropna().astype(int)\n",
    "shape=2\n",
    "loc=0\n",
    "scale=clean.mean()\n",
    "gamma1 =gamma.pdf(clean,a=shape,loc=loc,scale=scale)\n",
    "print(gamma1)\n"
   ]
  },
  {
   "cell_type": "code",
   "execution_count": 177,
   "id": "f2b6c15f",
   "metadata": {},
   "outputs": [
    {
     "name": "stdout",
     "output_type": "stream",
     "text": [
      "[0.19652552 0.         0.0912481  ... 0.0746475  0.03900039 0.10705183]\n"
     ]
    }
   ],
   "source": [
    "#39.\tCompute the beta distribution PDF for Social_event_attendance.\n",
    "from scipy.stats import beta\n",
    "clean=df['Friends_circle_size'].dropna().astype(int)\n",
    "x = (clean - clean.min()) / (clean.max() - clean.min())\n",
    "\n",
    "a=2\n",
    "b=3\n",
    "scale=clean.mean()\n",
    "beta1=beta.pdf(x,a=a,b=b,scale=scale)\n",
    "print(beta1)"
   ]
  },
  {
   "cell_type": "code",
   "execution_count": 179,
   "id": "40b8e267",
   "metadata": {},
   "outputs": [
    {
     "name": "stdout",
     "output_type": "stream",
     "text": [
      "[0.39471215 0.17319084 0.17319084 ... 0.39471215 0.0699043  0.36323066]\n"
     ]
    }
   ],
   "source": [
    "#40.\tCompute the t-distribution PDF of Time_spent_Alone.\n",
    "from scipy.stats import t\n",
    "clean =df['Time_spent_Alone'].dropna()\n",
    "x=clean\n",
    "dfree =len(clean)-1\n",
    "mean=clean.mean()\n",
    "std=clean.std()\n",
    "standardise =(x-mean)/std\n",
    "compute =t.pdf(standardise,df=dfree)\n",
    "print(compute)\n",
    "\n"
   ]
  },
  {
   "cell_type": "code",
   "execution_count": null,
   "id": "77204040",
   "metadata": {},
   "outputs": [
    {
     "name": "stdout",
     "output_type": "stream",
     "text": [
      "[ 1.01814809  0.99349802  1.20639133 -0.25148442 -0.53736221]\n"
     ]
    }
   ],
   "source": [
    "#41.\tGenerate 5 t-distributed random samples for Post_frequency.\n",
    "from scipy.stats import t\n",
    "clean =df['Time_spent_Alone'].dropna()\n",
    "\n",
    "dfree =len(clean)-1\n",
    "\n",
    "\n",
    "generate =t.rvs(df=dfree,size=5)\n",
    "print(generate)\n",
    "\n"
   ]
  },
  {
   "cell_type": "code",
   "execution_count": null,
   "id": "1eeb922a",
   "metadata": {},
   "outputs": [],
   "source": [
    "#42.\tCompute the chi-square PDF of Friends_circle_size.\n",
    "from scipy.stats import chi2\n",
    "clean =df['Friends_circle_size'].dropna()\n",
    "dfree=2\n",
    "compute =chi2.pdf(clean,df=dfree)\n",
    "print(compute)\n"
   ]
  },
  {
   "cell_type": "code",
   "execution_count": 187,
   "id": "c8a13eac",
   "metadata": {},
   "outputs": [
    {
     "name": "stdout",
     "output_type": "stream",
     "text": [
      "[4.23437021 1.45365899 0.85233573 0.68463731 4.82980792 1.13572447\n",
      " 1.38612515 1.04171252]\n"
     ]
    }
   ],
   "source": [
    "#43.\tGenerate chi-square distributed values for Time_spent_Alone.\n",
    "from scipy.stats import chi2\n",
    "clean =df['Time_spent_Alone'].dropna()\n",
    "dfree=2\n",
    "generate3 =chi2.rvs(df=dfree,size=8)\n",
    "print(generate3)"
   ]
  },
  {
   "cell_type": "code",
   "execution_count": 192,
   "id": "f84b72ac",
   "metadata": {},
   "outputs": [
    {
     "name": "stdout",
     "output_type": "stream",
     "text": [
      "[0.01934809 0.00541907 0.00831809 ... 0.00342468 0.00394179 0.00162568]\n"
     ]
    }
   ],
   "source": [
    "#44.\tCompute multivariate normal PDF using Time_spent_Alone and Post_frequency.\n",
    "from scipy.stats import multivariate_normal\n",
    "clean = df[['Time_spent_Alone','Post_frequency']].dropna()\n",
    "data =clean.values\n",
    "mean=np.mean(data,axis=0)\n",
    "cov=np.cov(data.T)\n",
    "compute =multivariate_normal.pdf(clean,mean=mean,cov=cov)\n",
    "print(compute)\n"
   ]
  },
  {
   "cell_type": "code",
   "execution_count": 196,
   "id": "74c9c021",
   "metadata": {},
   "outputs": [
    {
     "name": "stdout",
     "output_type": "stream",
     "text": [
      "3.7564046940967387e-264\n",
      "[np.int64(1387), np.int64(615), np.int64(833)]\n"
     ]
    }
   ],
   "source": [
    "#45.\tCompute the multinomial PMF for Post_frequency categories.\n",
    "from scipy.stats import multinomial\n",
    "clean =df['Post_frequency'].dropna()\n",
    "low = ((clean >= 0) & (clean <= 2)).sum()\n",
    "medium = ((clean >= 3) & (clean <= 5)).sum()\n",
    "high = (clean >= 6).sum()\n",
    "count =[low,medium,high]\n",
    "n=sum(count)\n",
    "p=[0.2,0.3,0.4]\n",
    "compute1=multinomial.pmf(count,n=n,p=p)\n",
    "print(compute1)\n",
    "print(count)\n"
   ]
  },
  {
   "cell_type": "code",
   "execution_count": null,
   "id": "850cb0cb",
   "metadata": {},
   "outputs": [
    {
     "ename": "ValueError",
     "evalue": "either both or neither of x and y should be given",
     "output_type": "error",
     "traceback": [
      "\u001b[31m---------------------------------------------------------------------------\u001b[39m",
      "\u001b[31mValueError\u001b[39m                                Traceback (most recent call last)",
      "\u001b[36mCell\u001b[39m\u001b[36m \u001b[39m\u001b[32mIn[25]\u001b[39m\u001b[32m, line 5\u001b[39m\n\u001b[32m      3\u001b[39m df=pd.read_csv(\u001b[33m'\u001b[39m\u001b[33mpersonality_dataset.csv\u001b[39m\u001b[33m'\u001b[39m)\n\u001b[32m      4\u001b[39m \u001b[38;5;28;01mimport\u001b[39;00m\u001b[38;5;250m \u001b[39m\u001b[34;01mnumpy\u001b[39;00m\u001b[38;5;250m \u001b[39m\u001b[38;5;28;01mas\u001b[39;00m\u001b[38;5;250m \u001b[39m\u001b[34;01mnp\u001b[39;00m\n\u001b[32m----> \u001b[39m\u001b[32m5\u001b[39m replace =\u001b[43mnp\u001b[49m\u001b[43m.\u001b[49m\u001b[43mwhere\u001b[49m\u001b[43m(\u001b[49m\u001b[43mdf\u001b[49m\u001b[43m[\u001b[49m\u001b[33;43m'\u001b[39;49m\u001b[33;43mPost_frequency\u001b[39;49m\u001b[33;43m'\u001b[39;49m\u001b[43m]\u001b[49m\u001b[43m<\u001b[49m\u001b[32;43m0\u001b[39;49m\u001b[43m,\u001b[49m\u001b[32;43m0\u001b[39;49m\u001b[43m)\u001b[49m\n\u001b[32m      6\u001b[39m \u001b[38;5;28mprint\u001b[39m(replace)\n",
      "\u001b[31mValueError\u001b[39m: either both or neither of x and y should be given"
     ]
    }
   ],
   "source": [
    "#1.\tReplace all negative values in Stage_fear with zero using broadcasting.\n",
    "import pandas as pd\n",
    "df=pd.read_csv('personality_dataset.csv')\n",
    "import numpy as np\n",
    "replace =np.where(df['Post_frequency']<0,0,df['Post_frequency'])\n",
    "print(replace)"
   ]
  },
  {
   "cell_type": "code",
   "execution_count": null,
   "id": "cc9139ad",
   "metadata": {},
   "outputs": [],
   "source": [
    "#2.\tSelect only those Post_frequency values that are not equal to 0 or 1.\n",
    "import pandas as pd\n",
    "import numpy as np\n",
    "clean=df['Post_frequency'].dropna()\n",
    "more_clean=clean[((clean)!=0) & ((clean)!=1)]\n",
    "print(more_clean)"
   ]
  },
  {
   "cell_type": "code",
   "execution_count": null,
   "id": "04474b7b",
   "metadata": {},
   "outputs": [],
   "source": [
    "#3.\tConvert Going_outside values to booleans where > 5 is True, others False.\n",
    "import pandas as pd\n",
    "import numpy as np\n",
    "convert =(df['Going_outside']).astype(bool)\n",
    "print(convert)\n"
   ]
  },
  {
   "cell_type": "code",
   "execution_count": 29,
   "id": "06fc3302",
   "metadata": {},
   "outputs": [
    {
     "name": "stdout",
     "output_type": "stream",
     "text": [
      "[99. 99. 99. ... 99. 99. 99.]\n"
     ]
    }
   ],
   "source": [
    "#4.\tAssign the value 99 to all elements in Drained_after_socializing where values are less than 2.\n",
    "import pandas as pd\n",
    "import numpy as np\n",
    "assign =np.where(df['Post_frequency']<22,99,df['Post_frequency'])\n",
    "print(assign)\n"
   ]
  },
  {
   "cell_type": "code",
   "execution_count": null,
   "id": "2c60da1b",
   "metadata": {},
   "outputs": [],
   "source": [
    "#5.\tCreate a masked array for Friends_circle_size that hides all values above 10.\n",
    "import pandas as pd\n",
    "import numpy as np\n",
    "df = pd.read_csv('personality_dataset.csv')\n",
    "array=np.array(df['Friends_circle_size'].dropna())\n",
    "masked = np.ma.masked_greater(array, 10)\n",
    "\n",
    "print(masked)"
   ]
  },
  {
   "cell_type": "code",
   "execution_count": null,
   "id": "c2206efd",
   "metadata": {},
   "outputs": [],
   "source": [
    "#6.\tCalculate how many items are masked in the above array.\n",
    "import pandas as pd\n",
    "import numpy as np\n",
    "df = pd.read_csv('personality_dataset.csv')\n",
    "array=np.array(df['Friends_circle_size'].dropna())\n",
    "count =np.ma.count_masked(masked)\n",
    "print(count)"
   ]
  },
  {
   "cell_type": "code",
   "execution_count": 43,
   "id": "1fa9a592",
   "metadata": {},
   "outputs": [
    {
     "name": "stdout",
     "output_type": "stream",
     "text": [
      "[0. 0. 5. ... 4. 2. 6.]\n"
     ]
    }
   ],
   "source": [
    "#7.\tFill all masked values in the masked array with 0.\n",
    "fill =np.ma.filled(masked,0)\n",
    "print(fill)"
   ]
  },
  {
   "cell_type": "code",
   "execution_count": null,
   "id": "23a063f2",
   "metadata": {},
   "outputs": [],
   "source": [
    "#8.\tSort the rows of a 2D array based on the values in the third column.\n",
    "import pandas as pd\n",
    "import numpy as np\n",
    "df=pd.read_csv('personality_dataset.csv')\n",
    "column=df.columns[2]\n",
    "argsort=np.argsort(df[column].values,kind='mergesort')\n",
    "sorted_df =df.iloc[argsort]\n",
    "print(sorted_df)"
   ]
  },
  {
   "cell_type": "code",
   "execution_count": null,
   "id": "f23b2e72",
   "metadata": {},
   "outputs": [],
   "source": [
    "#9.\tFind the row in your dataset with the highest value in Time_spent_Alone.\n",
    "max=np.max(df['Time_spent_Alone'])\n",
    "print(max)"
   ]
  },
  {
   "cell_type": "code",
   "execution_count": null,
   "id": "a06c1197",
   "metadata": {},
   "outputs": [],
   "source": [
    "#10.\tCompare two arrays and return the index where they differ.\n",
    "column1 =df.columns[0]\n",
    "column2=df.columns[2]\n",
    "differ= np.where(df[column1]!=df[column2])\n",
    "print(differ)\n"
   ]
  },
  {
   "cell_type": "code",
   "execution_count": null,
   "id": "e9eabd32",
   "metadata": {},
   "outputs": [],
   "source": [
    "#11.\tSet every second item in Social_event_attendance to 0.\n",
    "array=np.array(df['Friends_circle_size'])\n",
    "array[::2]=0\n",
    "df['Friends_circle_size']=array\n",
    "print(df['Friends_circle_size'])"
   ]
  },
  {
   "cell_type": "code",
   "execution_count": null,
   "id": "b41b24ca",
   "metadata": {},
   "outputs": [],
   "source": [
    "#12.\tReverse each row of a 2D array.\n",
    "array =np.array(df)\n",
    "reverse=array[:,::-1]\n",
    "print(reverse)\n"
   ]
  },
  {
   "cell_type": "code",
   "execution_count": null,
   "id": "85d6f09b",
   "metadata": {},
   "outputs": [],
   "source": [
    "#13.\tCombine Stage_fear and Post_frequency into a 2D column stack.\n",
    "combined =np.column_stack((df['Stage_fear'], df['Post_frequency']))\n",
    "print(combined)"
   ]
  },
  {
   "cell_type": "code",
   "execution_count": 74,
   "id": "d4a03156",
   "metadata": {},
   "outputs": [
    {
     "name": "stdout",
     "output_type": "stream",
     "text": [
      "[[ 6.  0.  2. ...  1. nan  6.]\n",
      " [ 0.  0.  0. ...  4.  0.  6.]]\n"
     ]
    }
   ],
   "source": [
    "#14.\tCombine Going_outside and Friends_circle_size as a row-wise array.\n",
    "row=np.vstack((df['Going_outside'],df['Friends_circle_size']))\n",
    "print(row)"
   ]
  },
  {
   "cell_type": "code",
   "execution_count": null,
   "id": "f9bb8697",
   "metadata": {},
   "outputs": [],
   "source": [
    "#15.\tConvert a flat index (like 17) to its position in a 3x6 shape.\n",
    "import pandas as pd\n",
    "import numpy as np\n",
    "df=pd.read_csv('personality_dataset.csv')\n",
    "valid =df['Friends_circle_size'].dropna().astype(int)\n",
    "valid =valid[valid<12]\n",
    "\n",
    "row=np.unravel_index(valid,shape=(6,2))\n",
    "\n",
    "print(row)"
   ]
  },
  {
   "cell_type": "code",
   "execution_count": 10,
   "id": "68d4eff5",
   "metadata": {},
   "outputs": [
    {
     "name": "stdout",
     "output_type": "stream",
     "text": [
      "[6. 0. 2. ... 3. 1. 6.]\n"
     ]
    }
   ],
   "source": [
    "#16.\tCreate a view of Stage_fear that updates when the original changes.\n",
    "import numpy as np\n",
    "import pandas as pd\n",
    "df=pd.read_csv('personality_dataset.csv')\n",
    "array=np.array(df['Going_outside'].dropna())\n",
    "view=array.view()\n",
    "print(view)\n"
   ]
  },
  {
   "cell_type": "code",
   "execution_count": null,
   "id": "1a168d36",
   "metadata": {},
   "outputs": [],
   "source": [
    "#17.\tFind the memory address of Post_frequency in RAM.\n",
    "df=pd.read_csv('personality_dataset.csv')\n",
    "array=np.array(df['Post_frequency'])\n",
    "interface =array.__array_interface__['data'][0]\n",
    "\n",
    "print(interface) \n"
   ]
  },
  {
   "cell_type": "code",
   "execution_count": 20,
   "id": "96402aae",
   "metadata": {},
   "outputs": [
    {
     "name": "stdout",
     "output_type": "stream",
     "text": [
      "(8,)\n"
     ]
    }
   ],
   "source": [
    "#18.\tDisplay the strides of Time_spent_Alone array.\n",
    "df=pd.read_csv('personality_dataset.csv')\n",
    "array=np.array(df['Time_spent_Alone'])\n",
    "strides =array.strides\n",
    "print(strides)"
   ]
  },
  {
   "cell_type": "code",
   "execution_count": null,
   "id": "8eaac5aa",
   "metadata": {},
   "outputs": [],
   "source": [
    "#19.\tConvert a list of strings to a NumPy array of type U (Unicode).\n",
    "df=pd.read_csv('personality_dataset.csv')\n",
    "string_fear =np.array(df['Personality'].astype(str),dtype='U')\n",
    "print(string_fear)"
   ]
  },
  {
   "cell_type": "code",
   "execution_count": null,
   "id": "0a9669c9",
   "metadata": {},
   "outputs": [],
   "source": [
    "#20.\tConvert a float array into an int array without changing its shape.\n",
    "df=pd.read_csv('personality_dataset.csv')\n",
    "int_array=np.array(df['Friends_circle_size'].dropna().astype(int))\n",
    "print(int_array)"
   ]
  },
  {
   "cell_type": "code",
   "execution_count": 27,
   "id": "fc000aa0",
   "metadata": {},
   "outputs": [
    {
     "name": "stdout",
     "output_type": "stream",
     "text": [
      "[13.  0.  5. ...  4.  2.  6.]\n"
     ]
    }
   ],
   "source": [
    "#21.\tCast a structured array from float32 to float64.\n",
    "int_array=np.array(df['Friends_circle_size'].dropna().astype(np.float64))\n",
    "print(int_array)"
   ]
  },
  {
   "cell_type": "code",
   "execution_count": null,
   "id": "00b60fb0",
   "metadata": {},
   "outputs": [],
   "source": [
    "#22.\tSafely interpret a string of bytes as a NumPy array.\n",
    "int_array1=np.array(df['Personality'].dropna())\n",
    "interpret =np.frombuffer(int_array1)\n",
    "print(interpret)"
   ]
  },
  {
   "cell_type": "code",
   "execution_count": null,
   "id": "393b2c6a",
   "metadata": {},
   "outputs": [],
   "source": [
    "#23.\tCreate a 3D array filled with the object 'Hello'.\n",
    "array =np.full((2,2,2),'hello')\n",
    "print(array)"
   ]
  },
  {
   "cell_type": "code",
   "execution_count": null,
   "id": "063322b2",
   "metadata": {},
   "outputs": [],
   "source": [
    "#24.\tEnsure two arrays share the same memory buffer.\n",
    "a =np.array(df['Friends_circle_size'])\n",
    "b=np.array(df['Going_outside'])\n",
    "share=np.shares_memory(a,b)\n",
    "print(share)\n"
   ]
  },
  {
   "cell_type": "code",
   "execution_count": null,
   "id": "1c91aa35",
   "metadata": {},
   "outputs": [],
   "source": [
    "#25.\tCreate a structured array with columns: name (str), age (int), score (float).\n",
    "import pandas as pd\n",
    "import numpy as np\n",
    "\n",
    "# Load your dataset\n",
    "df = pd.read_csv('personality_dataset.csv')\n",
    "\n",
    "# Confirm column names\n",
    "print(df.columns.tolist())\n",
    "\n",
    "# Select required columns and drop missing values\n",
    "subset = df[['Personality', 'Friends_circle_size', 'Post_frequency']].dropna()\n",
    "\n",
    "# Define structured array dtype\n",
    "dtype = [('name', 'U30'), ('age', 'i4'), ('score', 'f4')]\n",
    "\n",
    "# Build structured array\n",
    "structured_array = np.array([\n",
    "    (row['Personality'], int(row['Friends_circle_size']), float(row['Post_frequency']))\n",
    "    for _, row in subset.iterrows()\n",
    "])\n",
    "\n",
    "print(structured_array)\n",
    "\n",
    "\n",
    "\n",
    "\n"
   ]
  },
  {
   "cell_type": "code",
   "execution_count": null,
   "id": "add60e73",
   "metadata": {},
   "outputs": [],
   "source": [
    "#37.\tFind all contiguous subarrays of length 3 in Stage_fear.\n",
    "from numpy.lib.stride_tricks import sliding_window_view\n",
    "array=np.array(df['Stage_fear'].dropna())\n",
    "window=sliding_window_view(array,window_shape=3)\n",
    "print(window)\n",
    "\n",
    "\n"
   ]
  },
  {
   "cell_type": "code",
   "execution_count": null,
   "id": "cc047a97",
   "metadata": {},
   "outputs": [],
   "source": [
    "#38.\tPad a 1D array with values on both sides to make its length 20.\n",
    "array=np.array(df['Personality'].dropna)\n",
    "pod =np.pad(array,20)\n",
    "print(pod)"
   ]
  },
  {
   "cell_type": "code",
   "execution_count": 56,
   "id": "c585d3a1",
   "metadata": {},
   "outputs": [
    {
     "name": "stdout",
     "output_type": "stream",
     "text": [
      "[0. 9. 5. ... 6. 9. 0.]\n"
     ]
    }
   ],
   "source": [
    "#39.\tRoll Post_frequency values 2 steps forward like circular shift.\n",
    "array=np.array(df['Post_frequency'].dropna())\n",
    "roll =np.roll(array,2)\n",
    "print(roll)"
   ]
  },
  {
   "cell_type": "code",
   "execution_count": null,
   "id": "35bca81d",
   "metadata": {},
   "outputs": [],
   "source": [
    "#40.\tSplit Stage_fear into 3 equal parts.\n",
    "array=np.array(df['Post_frequency'].dropna())\n",
    "split=np.array_split(array,3)\n",
    "for i, part in enumerate(split, 1):\n",
    "    print(f\"Part {i}:\\n\", part, \"\\n\")\n"
   ]
  },
  {
   "cell_type": "code",
   "execution_count": null,
   "id": "4b46df73",
   "metadata": {},
   "outputs": [],
   "source": [
    "#41.\tReplace all diagonal elements of a square array with -1.\n",
    "import numpy as np\n",
    "import pandas as pd\n",
    "\n",
    "# Assuming df is already loaded\n",
    "data = df['Friends_circle_size'].dropna().to_numpy()\n",
    "\n",
    "# Make it square — use only the first N values to create an N x N array\n",
    "n = min(len(data), 5)  # use 5x5 for example; you can use len(data)**0.5 if perfect square\n",
    "\n",
    "square_array = np.zeros((n, n), dtype=int)\n",
    "\n",
    "# Fill diagonal with actual values just to demonstrate\n",
    "np.fill_diagonal(square_array, data[:n])\n",
    "\n",
    "# Now replace diagonal with -1\n",
    "np.fill_diagonal(square_array, -1)\n",
    "\n",
    "print(square_array)\n"
   ]
  },
  {
   "cell_type": "code",
   "execution_count": null,
   "id": "0ab0cb10",
   "metadata": {},
   "outputs": [],
   "source": [
    "#42.\tFlip a 2D array upside down.\n",
    "data =df['Friends_circle_size'].dropna()\n",
    "updown=np.flipud(data)\n",
    "print(updown)"
   ]
  },
  {
   "cell_type": "code",
   "execution_count": null,
   "id": "6e985698",
   "metadata": {},
   "outputs": [],
   "source": [
    "#43.\tFlip a 2D array left to right.\n",
    "data =df['Friends_circle_size'].dropna()\n",
    "array=np.array(data)\n",
    "dimension =array.reshape(1,-1)\n",
    "left=np.fliplr(dimension)\n",
    "print(data)"
   ]
  },
  {
   "cell_type": "code",
   "execution_count": null,
   "id": "27767aff",
   "metadata": {},
   "outputs": [],
   "source": [
    "#44.\tReplace NaNs in Friends_circle_size with average of neighbors.\n",
    "data = df['Friends_circle_size'].astype(float).to_numpy()\n",
    "\n",
    "# Find indices where values are NaN\n",
    "nan_indices = np.where(np.isnan(data))[0]\n",
    "\n",
    "for idx in nan_indices:\n",
    "    left = data[idx - 1] if idx - 1 >= 0 else np.nan\n",
    "    right = data[idx + 1] if idx + 1 < len(data) else np.nan\n",
    "\n",
    "    neighbors = [v for v in [left, right] if not np.isnan(v)]\n",
    "    \n",
    "    if neighbors:\n",
    "        data[idx] = np.mean(neighbors)\n",
    "\n",
    "print(\"Filled array:\\n\", data)\n",
    "\n",
    "\n",
    "\n"
   ]
  },
  {
   "cell_type": "code",
   "execution_count": 81,
   "id": "9737d178",
   "metadata": {},
   "outputs": [
    {
     "name": "stdout",
     "output_type": "stream",
     "text": [
      "3\n"
     ]
    }
   ],
   "source": [
    "#45.\tFind the longest consecutive sequence of 1s in Social_event_attendance.\n",
    "data =np.array(df['Social_event_attendance'].dropna().astype(int))\n",
    "max_count=0\n",
    "current_count=0\n",
    "for val in data:\n",
    "    if val==1:\n",
    "        current_count+=1\n",
    "        max_count=max(max_count,current_count)\n",
    "    else:\n",
    "        current_count=0\n",
    "print(max_count)\n",
    "\n"
   ]
  },
  {
   "cell_type": "code",
   "execution_count": null,
   "id": "85e95fb2",
   "metadata": {},
   "outputs": [],
   "source": [
    "#46.\tApply a piecewise function to Post_frequencyr: - if value < 3 → 0 - if value between 3–5 → 1 - if value > 5 → 2\n",
    "import numpy as np\n",
    "data = df['Post_frequency'].fillna(0).to_numpy()\n",
    "conditions =[\n",
    "    data <3,(data >= 3) & (data<=5),data >5\n",
    "]\n",
    "values =[0,1,2]\n",
    "select= np.select(conditions,values)\n",
    "print(select)"
   ]
  },
  {
   "cell_type": "code",
   "execution_count": null,
   "id": "45a204d7",
   "metadata": {},
   "outputs": [],
   "source": [
    "#47.\tCreate a lookup table to replace values in Friends_circle_size using a key-value map.\n",
    "import numpy as np\n",
    "\n",
    "# Lookup array: index = original value, value = replacement\n",
    "lookup_array = np.array([0, 10, 20, 30, 40, 50])  # index 1 → 10, index 2 → 20, etc.\n",
    "\n",
    "# Get values from the column\n",
    "array = df['Friends_circle_size'].fillna(0).astype(int).to_numpy()\n",
    "\n",
    "# Make sure all values are valid indices\n",
    "array[array >= len(lookup_array)] = 0  # Prevent index out of bounds\n",
    "\n",
    "# Apply lookup\n",
    "mapped = np.take(lookup_array, array)\n",
    "\n",
    "print(mapped)\n"
   ]
  },
  {
   "cell_type": "code",
   "execution_count": 91,
   "id": "c082a3a4",
   "metadata": {},
   "outputs": [
    {
     "name": "stdout",
     "output_type": "stream",
     "text": [
      "[False False False ... False False False]\n"
     ]
    }
   ],
   "source": [
    "#48.\tCompare two arrays and show which values are \"almost equal\" with a tolerance of 0.001.\n",
    "a=np.array(df['Friends_circle_size'])\n",
    "b=np.array(df['Post_frequency'])\n",
    "isclose =np.isclose(a,b)\n",
    "print(isclose)"
   ]
  },
  {
   "cell_type": "code",
   "execution_count": null,
   "id": "c4749b89",
   "metadata": {},
   "outputs": [],
   "source": [
    "#49.\tIdentify repeated values in Time_spent_Alone and show the positions.\n",
    "import numpy as np\n",
    "import pandas as pd\n",
    "\n",
    "# Get array from the column\n",
    "array = np.array(df['Time_spent_Alone'].dropna())\n",
    "\n",
    "# Find duplicate values and their positions\n",
    "positions = {}\n",
    "\n",
    "for idx, val in enumerate(array):\n",
    "    if val in positions:\n",
    "        positions[val].append(idx)\n",
    "    else:\n",
    "        positions[val] = [idx]\n",
    "\n",
    "# Keep only values that occur more than once\n",
    "duplicates = {k: v for k, v in positions.items() if len(v) > 1}\n",
    "\n",
    "# Display\n",
    "for val, idxs in duplicates.items():\n",
    "    print(f\"Value {val} is repeated at positions: {idxs}\")\n"
   ]
  },
  {
   "cell_type": "code",
   "execution_count": null,
   "id": "30e46a5e",
   "metadata": {},
   "outputs": [],
   "source": [
    "#50.\tConvert all integers in Post_frequency to binary strings.\n",
    "array=np.array(df['Post_frequency'].dropna().astype(int))\n",
    "binary =np.vectorize(np.binary_repr)(array)\n",
    "print(binary)"
   ]
  },
  {
   "cell_type": "code",
   "execution_count": 103,
   "id": "c62208c9",
   "metadata": {},
   "outputs": [
    {
     "name": "stdout",
     "output_type": "stream",
     "text": [
      "2467\n"
     ]
    }
   ],
   "source": [
    "#58.\tCount non-zero items in Time_spent_Alone.\n",
    "array = np.nonzero(df['Time_spent_Alone'].dropna())\n",
    "sumation =np.count_nonzero(array)\n",
    "print(sumation)"
   ]
  },
  {
   "cell_type": "code",
   "execution_count": null,
   "id": "1095c86d",
   "metadata": {},
   "outputs": [],
   "source": [
    "#59.\tCheck which values in Post_frequency are in the list [1, 3, 5].\n",
    "import numpy as np\n",
    "\n",
    "# Get the column as array\n",
    "data = df['Post_frequency'].to_numpy()\n",
    "\n",
    "# Get all index positions\n",
    "indices = np.arange(len(data))\n",
    "\n",
    "# Create a boolean mask for desired positions\n",
    "mask = np.isin(indices, [1, 3, 5])\n",
    "\n",
    "# Apply mask to data\n",
    "selected_values = data[mask]\n",
    "\n",
    "print(selected_values)\n",
    "\n"
   ]
  },
  {
   "cell_type": "code",
   "execution_count": 108,
   "id": "ce04e69c",
   "metadata": {},
   "outputs": [
    {
     "name": "stdout",
     "output_type": "stream",
     "text": [
      "[   0    1    2 ... 2895 2896 2899]\n"
     ]
    }
   ],
   "source": [
    "#60.\tGet indices of non-zero values in Going_outside.\n",
    "indices =np.flatnonzero(df['Post_frequency'])\n",
    "print(indices)"
   ]
  },
  {
   "cell_type": "code",
   "execution_count": null,
   "id": "2fed14d5",
   "metadata": {},
   "outputs": [],
   "source": [
    "#61.\tWhat is the Pearson correlation coefficient between Post_frequency and Friends_circle_size?\n",
    "data = df[['Post_frequency','Friends_circle_size']].dropna()\n",
    "\n",
    "stds = data.std()\n",
    "data = data.loc[:, stds != 0]\n",
    "\n",
    "# Now compute correlation or transformation safely\n",
    "result = np.corrcoef(data.T)  # or any other function\n",
    "print(result)\n"
   ]
  },
  {
   "cell_type": "code",
   "execution_count": 114,
   "id": "8c77a199",
   "metadata": {},
   "outputs": [
    {
     "name": "stdout",
     "output_type": "stream",
     "text": [
      "[[  0.5  -3.   -3.5 ...  -2.   -5.5   3. ]\n",
      " [ -3.   18.   21.  ...  12.   33.  -18. ]\n",
      " [ -3.5  21.   24.5 ...  14.   38.5 -21. ]\n",
      " ...\n",
      " [ -2.   12.   14.  ...   8.   22.  -12. ]\n",
      " [ -5.5  33.   38.5 ...  22.   60.5 -33. ]\n",
      " [  3.  -18.  -21.  ... -12.  -33.   18. ]]\n"
     ]
    }
   ],
   "source": [
    "#62.\tCompute the covariance matrix of Post_frequency and Time_spent_Alone.\n",
    "data = df[['Post_frequency','Time_spent_Alone']].dropna()\n",
    "covariance =np.cov(data)\n",
    "print(covariance)\n",
    "\n"
   ]
  },
  {
   "cell_type": "code",
   "execution_count": null,
   "id": "5ff508b1",
   "metadata": {},
   "outputs": [],
   "source": [
    "#69.\tCompute the outer product of Post_frequency and Time_spent_Alone.\n",
    "subset = df[['Post_frequency', 'Time_spent_Alone']].dropna()\n",
    "data = subset['Post_frequency'].to_numpy()\n",
    "b = subset['Time_spent_Alone'].to_numpy()\n",
    "\n",
    "covariance =np.outer(data,b)\n",
    "print(covariance)"
   ]
  },
  {
   "cell_type": "code",
   "execution_count": null,
   "id": "3ed1ec09",
   "metadata": {},
   "outputs": [],
   "source": [
    "#70.\tCompute the inner product of Friends_circle_size and Social_event_attendance.\n",
    "subset = df[['Post_frequency', 'Time_spent_Alone']].dropna()\n",
    "data = subset['Post_frequency'].to_numpy()\n",
    "b = subset['Time_spent_Alone'].to_numpy()\n",
    "inner =np.inner(data,b)\n",
    "print(inner)"
   ]
  },
  {
   "cell_type": "code",
   "execution_count": 123,
   "id": "3b4876bc",
   "metadata": {},
   "outputs": [
    {
     "name": "stdout",
     "output_type": "stream",
     "text": [
      "[ 2.29001293  2.43200575  6.2482785  -2.72816112  1.54449538 -5.48946\n",
      "  9.63195686  0.46399425  4.40508366  6.63142536]\n"
     ]
    }
   ],
   "source": [
    "#72.\tGenerate 10 normally distributed random floats to simulate Post_frequency.\n",
    "mean = df['Post_frequency'].mean()\n",
    "std = df['Post_frequency'].std()\n",
    "\n",
    "random_simulated = np.random.normal(loc=mean, scale=std, size=10)\n",
    "print(random_simulated)\n"
   ]
  },
  {
   "cell_type": "code",
   "execution_count": null,
   "id": "fd6d06da",
   "metadata": {},
   "outputs": [
    {
     "name": "stdout",
     "output_type": "stream",
     "text": [
      "[10 10 10 ...  0  0 10]\n"
     ]
    }
   ],
   "source": [
    "#71.\tGenerate 10 uniform random floats to simulate Going_outside.\n",
    "import numpy as np\n",
    "import pandas as pd\n",
    "df=pd.read_csv('personality_dataset.csv')\n",
    "\n",
    "df['Post_frequency'] = pd.to_numeric(df['Post_frequency'], errors='coerce')\n",
    "df['Post_frequency'] = df['Post_frequency'].clip(0, 1).fillna(0.5)  # clip values between 0 and 1, fill NaN with 0.5\n",
    "\n",
    "distribution = np.random.binomial(n=10, p=df['Post_frequency'])\n",
    "print(distribution)\n"
   ]
  },
  {
   "cell_type": "code",
   "execution_count": null,
   "id": "114f9ac3",
   "metadata": {},
   "outputs": [],
   "source": [
    "#76.\tGenerate a random permutation of Friends_circle_size.\n",
    "import numpy as np\n",
    "import pandas as pd\n",
    "df=pd.read_csv('personality_dataset.csv')\n",
    "random =np.random.permutation(df['Friends_circle_size'])\n",
    "print(random)"
   ]
  },
  {
   "cell_type": "code",
   "execution_count": null,
   "id": "ed5f6e4b",
   "metadata": {},
   "outputs": [],
   "source": [
    "#77.\tSet a seed before generating random values for reproducibility.\n",
    "import numpy as np\n",
    "import pandas as pd\n",
    "\n",
    "df = pd.read_csv('personality_dataset.csv')\n",
    "\n",
    "# Drop NaN values if any\n",
    "friends = df['Friends_circle_size'].dropna()\n",
    "\n",
    "# Convert to numeric if needed\n",
    "friends = pd.to_numeric(friends, errors='coerce').dropna()\n",
    "\n",
    "# Now generate a random permutation\n",
    "permuted = np.random.permutation(friends)\n",
    "\n",
    "print(permuted)\n"
   ]
  },
  {
   "cell_type": "code",
   "execution_count": null,
   "id": "d1d7201f",
   "metadata": {},
   "outputs": [],
   "source": [
    "#75.\tShuffle the Post_frequency values in-place.\n",
    "import pandas as pd\n",
    "import numpy as np\n",
    "\n",
    "df = pd.read_csv('personality_dataset.csv')\n",
    "\n",
    "# Convert to numeric, drop NaNs\n",
    "df['Post_frequency'] = pd.to_numeric(df['Post_frequency'], errors='coerce')\n",
    "\n",
    "# Drop NaNs if you want to shuffle only valid values\n",
    "valid = df['Post_frequency'].dropna().values.copy()\n",
    "\n",
    "# Shuffle in-place\n",
    "np.random.shuffle(valid)\n",
    "\n",
    "# Assign shuffled values back (only to non-NaN positions)\n",
    "df.loc[df['Post_frequency'].notna(), 'Post_frequency'] = valid\n",
    "\n",
    "print(df['Post_frequency'])\n"
   ]
  },
  {
   "cell_type": "code",
   "execution_count": 21,
   "id": "05e2cbfc",
   "metadata": {},
   "outputs": [
    {
     "name": "stdout",
     "output_type": "stream",
     "text": [
      "0       13.0\n",
      "1        0.0\n",
      "2        5.0\n",
      "3       14.0\n",
      "4        8.0\n",
      "        ... \n",
      "2895     6.0\n",
      "2896    14.0\n",
      "2897     4.0\n",
      "2898     2.0\n",
      "2899     6.0\n",
      "Name: Friends_circle_size, Length: 2900, dtype: float64\n"
     ]
    }
   ],
   "source": [
    "#82.\tRound the values of Friends_circle_size to the nearest integer.\n",
    "import pandas as pd\n",
    "import numpy as np\n",
    "values =np.round(df['Friends_circle_size'])\n",
    "print(values)\n",
    "\n"
   ]
  },
  {
   "cell_type": "code",
   "execution_count": null,
   "id": "5506dd42",
   "metadata": {},
   "outputs": [],
   "source": [
    "#83.\tRound down the values of Time_spent_Alone.\n",
    "values=np.floor(df['Friends_circle_size'])\n",
    "print(values)"
   ]
  },
  {
   "cell_type": "code",
   "execution_count": null,
   "id": "dece214a",
   "metadata": {},
   "outputs": [],
   "source": [
    "#84.\tRound up the values of Social_event_attendance.\n",
    "array=np.ceil(df['Social_event_attendance'])\n",
    "print(array)"
   ]
  },
  {
   "cell_type": "code",
   "execution_count": 26,
   "id": "5eab2455",
   "metadata": {},
   "outputs": [
    {
     "name": "stdout",
     "output_type": "stream",
     "text": [
      "0       2.0\n",
      "1       2.0\n",
      "2       2.0\n",
      "3       1.0\n",
      "4       2.0\n",
      "       ... \n",
      "2895    6.0\n",
      "2896    3.0\n",
      "2897    1.0\n",
      "2898    1.0\n",
      "2899    2.0\n",
      "Name: Post_frequency, Length: 2900, dtype: float64\n"
     ]
    }
   ],
   "source": [
    "#85.\tTruncate decimal values in Post_frequency.\n",
    "array=np.trunc(df['Post_frequency'])\n",
    "print(array)"
   ]
  },
  {
   "cell_type": "code",
   "execution_count": null,
   "id": "94051a08",
   "metadata": {},
   "outputs": [],
   "source": [
    "#86.\tGet the sign (+/−) of each value in Friends_circle_size.\n",
    "array=np.sign(df['Friends_circle_size'])\n",
    "print(array)"
   ]
  },
  {
   "cell_type": "code",
   "execution_count": null,
   "id": "fae9bea7",
   "metadata": {},
   "outputs": [],
   "source": [
    "#88.\tCompute the base-10 logarithm of Post_frequency.\n",
    "log= np.log10(df['Friends_circle_size'])\n",
    "print(log)"
   ]
  },
  {
   "cell_type": "code",
   "execution_count": null,
   "id": "d95efcd7",
   "metadata": {},
   "outputs": [],
   "source": [
    "#87.\tCompute the natural log of Post_frequency.\n",
    "natural= np.log(df['Post_frequency'])\n",
    "print(natural)"
   ]
  },
  {
   "cell_type": "code",
   "execution_count": null,
   "id": "99f057f7",
   "metadata": {},
   "outputs": [],
   "source": [
    "#89.\tApply the exponential function on Post_frequency.\n",
    "exponential =np.exp(df['Post_frequency'])\n",
    "print(exponential)"
   ]
  },
  {
   "cell_type": "code",
   "execution_count": null,
   "id": "45aed526",
   "metadata": {},
   "outputs": [],
   "source": [
    "#91.\tRaise Post_frequency to the power of 3.\n",
    "power =np.power(df['Friends_circle_size'],3)\n",
    "print(power)"
   ]
  },
  {
   "cell_type": "code",
   "execution_count": null,
   "id": "dde71817",
   "metadata": {},
   "outputs": [],
   "source": [
    "#90.\tFind the square root of Social_event_attendance.\n",
    "sqrt =np.sqrt(df['Friends_circle_size'])\n",
    "print(sqrt)"
   ]
  },
  {
   "cell_type": "code",
   "execution_count": null,
   "id": "8a407643",
   "metadata": {},
   "outputs": [],
   "source": [
    "#92.\tGet the absolute values of Friends_circle_size.\n",
    "abs=np.abs(df['Friends_circle_size'])\n",
    "print(abs)"
   ]
  },
  {
   "cell_type": "code",
   "execution_count": 34,
   "id": "67cfcbd0",
   "metadata": {},
   "outputs": [
    {
     "name": "stdout",
     "output_type": "stream",
     "text": [
      "12783.0\n"
     ]
    }
   ],
   "source": [
    "#93.\tCompute the total sum of Time_spent_Alone.\n",
    "sum=np.sum(df['Time_spent_Alone'])\n",
    "print(sum)"
   ]
  },
  {
   "cell_type": "code",
   "execution_count": 35,
   "id": "301bcd17",
   "metadata": {},
   "outputs": [
    {
     "name": "stdout",
     "output_type": "stream",
     "text": [
      "0.0\n"
     ]
    }
   ],
   "source": [
    "#94.\tCompute the product of all elements in Post_frequency.\n",
    "sum=np.prod(df['Post_frequency'])\n",
    "print(sum)"
   ]
  },
  {
   "cell_type": "code",
   "execution_count": null,
   "id": "891dc697",
   "metadata": {},
   "outputs": [],
   "source": [
    "#95.\tCompute the column-wise mean of numerical columns.\n",
    "import pandas as pd\n",
    "df = pd.read_csv('personality_dataset.csv')\n",
    "\n",
    "# Compute column-wise mean of numeric columns only\n",
    "column_means = df.mean(numeric_only=True, axis=0)\n",
    "\n",
    "print(column_means)\n"
   ]
  },
  {
   "cell_type": "code",
   "execution_count": 38,
   "id": "4a8a1137",
   "metadata": {},
   "outputs": [
    {
     "name": "stdout",
     "output_type": "stream",
     "text": [
      "0       6.4\n",
      "1       2.4\n",
      "2       3.8\n",
      "3       7.0\n",
      "4       5.8\n",
      "       ... \n",
      "2895    5.6\n",
      "2896    7.4\n",
      "2897    2.0\n",
      "2898    3.5\n",
      "2899    6.0\n",
      "Length: 2900, dtype: float64\n"
     ]
    }
   ],
   "source": [
    "#96.\tCompute the row-wise mean (if applicable) of selected columns.\n",
    "import pandas as pd\n",
    "df = pd.read_csv('personality_dataset.csv')\n",
    "\n",
    "# Compute column-wise mean of numeric columns only\n",
    "column_means = df.mean(numeric_only=True, axis=1)\n",
    "\n",
    "print(column_means)"
   ]
  },
  {
   "cell_type": "code",
   "execution_count": 39,
   "id": "5c2afc79",
   "metadata": {},
   "outputs": [
    {
     "name": "stdout",
     "output_type": "stream",
     "text": [
      "[ 0.  0.  0. ... nan nan nan]\n"
     ]
    }
   ],
   "source": [
    "#97.\tSort the values in Post_frequency.\n",
    "import pandas as pd\n",
    "df=pd.read_csv('personality_dataset.csv')\n",
    "sort=np.sort(df['Post_frequency'])\n",
    "print(sort)"
   ]
  },
  {
   "cell_type": "code",
   "execution_count": 40,
   "id": "ff11dfdd",
   "metadata": {},
   "outputs": [
    {
     "name": "stdout",
     "output_type": "stream",
     "text": [
      "0       1902\n",
      "1        774\n",
      "2       1848\n",
      "3        782\n",
      "4        783\n",
      "        ... \n",
      "2895      41\n",
      "2896      45\n",
      "2897      46\n",
      "2898      51\n",
      "2899      60\n",
      "Name: Post_frequency, Length: 2900, dtype: int64\n"
     ]
    },
    {
     "name": "stderr",
     "output_type": "stream",
     "text": [
      "c:\\Users\\rajhe\\AppData\\Local\\Programs\\Python\\Python313\\Lib\\site-packages\\numpy\\_core\\fromnumeric.py:57: FutureWarning: The behavior of Series.argsort in the presence of NA values is deprecated. In a future version, NA values will be ordered last instead of set to -1.\n",
      "  return bound(*args, **kwds)\n"
     ]
    }
   ],
   "source": [
    "#98.\tGet the indices that would sort Post_frequency.\n",
    "import pandas as pd\n",
    "df=pd.read_csv('personality_dataset.csv')\n",
    "sort1=np.argsort(df['Post_frequency'])\n",
    "print(sort1)"
   ]
  },
  {
   "cell_type": "code",
   "execution_count": null,
   "id": "95c99fdc",
   "metadata": {},
   "outputs": [],
   "source": [
    "#99.\tFind the index of the minimum value in Time_spent_Alone.\n",
    "import pandas as pd\n",
    "df=pd.read_csv('personality_dataset.csv')\n",
    "sort1=np.argmin(df['Time_spent_Alone'])\n",
    "print(sort1)\n"
   ]
  },
  {
   "cell_type": "code",
   "execution_count": 42,
   "id": "138e8248",
   "metadata": {},
   "outputs": [
    {
     "name": "stdout",
     "output_type": "stream",
     "text": [
      "12\n"
     ]
    }
   ],
   "source": [
    "#100.Find the index of the maximum value in Post_frequency.\n",
    "import pandas as pd\n",
    "df=pd.read_csv('personality_dataset.csv')\n",
    "sort2=np.argmax(df['Post_frequency'])\n",
    "print(sort2)\n"
   ]
  }
 ],
 "metadata": {
  "kernelspec": {
   "display_name": "Python 3",
   "language": "python",
   "name": "python3"
  },
  "language_info": {
   "codemirror_mode": {
    "name": "ipython",
    "version": 3
   },
   "file_extension": ".py",
   "mimetype": "text/x-python",
   "name": "python",
   "nbconvert_exporter": "python",
   "pygments_lexer": "ipython3",
   "version": "3.13.1"
  }
 },
 "nbformat": 4,
 "nbformat_minor": 5
}
